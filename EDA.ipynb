{
 "cells": [
  {
   "cell_type": "code",
   "execution_count": 1,
   "id": "d9cadadc",
   "metadata": {},
   "outputs": [],
   "source": [
    "import pandas as pd\n",
    "\n",
    "data = pd.read_csv(r\"C:\\Users\\jahan\\Documents\\Dissertation\\dataset_credit_risk.csv\")"
   ]
  },
  {
   "cell_type": "code",
   "execution_count": 2,
   "id": "007bcbe7",
   "metadata": {},
   "outputs": [],
   "source": [
    "data = data.dropna()"
   ]
  },
  {
   "cell_type": "code",
   "execution_count": 3,
   "id": "6c97741d",
   "metadata": {
    "scrolled": true
   },
   "outputs": [
    {
     "name": "stdout",
     "output_type": "stream",
     "text": [
      "       person_age  person_income  person_emp_length  loan_amnt  loan_int_rate  \\\n",
      "0              22          59000              123.0      35000          16.02   \n",
      "1              21           9600                5.0       1000          11.14   \n",
      "2              25           9600                1.0       5500          12.87   \n",
      "3              23          65500                4.0      35000          15.23   \n",
      "4              24          54400                8.0      35000          14.27   \n",
      "...           ...            ...                ...        ...            ...   \n",
      "32576          57          53000                1.0       5800          13.16   \n",
      "32577          54         120000                4.0      17625           7.49   \n",
      "32578          65          76000                3.0      35000          10.99   \n",
      "32579          56         150000                5.0      15000          11.48   \n",
      "32580          66          42000                2.0       6475           9.99   \n",
      "\n",
      "       loan_default  loan_percent_income  previous_default  \\\n",
      "0                 1                 0.59                 1   \n",
      "1                 0                 0.10                 0   \n",
      "2                 1                 0.57                 0   \n",
      "3                 1                 0.53                 0   \n",
      "4                 1                 0.55                 1   \n",
      "...             ...                  ...               ...   \n",
      "32576             0                 0.11                 0   \n",
      "32577             0                 0.15                 0   \n",
      "32578             1                 0.46                 0   \n",
      "32579             0                 0.10                 0   \n",
      "32580             0                 0.15                 0   \n",
      "\n",
      "       person_home_ownership_MORTGAGE  person_home_ownership_OTHER  \\\n",
      "0                                   0                            0   \n",
      "1                                   0                            0   \n",
      "2                                   1                            0   \n",
      "3                                   0                            0   \n",
      "4                                   0                            0   \n",
      "...                               ...                          ...   \n",
      "32576                               1                            0   \n",
      "32577                               1                            0   \n",
      "32578                               0                            0   \n",
      "32579                               1                            0   \n",
      "32580                               0                            0   \n",
      "\n",
      "       person_home_ownership_OWN  person_home_ownership_RENT  \n",
      "0                              0                           1  \n",
      "1                              1                           0  \n",
      "2                              0                           0  \n",
      "3                              0                           1  \n",
      "4                              0                           1  \n",
      "...                          ...                         ...  \n",
      "32576                          0                           0  \n",
      "32577                          0                           0  \n",
      "32578                          0                           1  \n",
      "32579                          0                           0  \n",
      "32580                          0                           1  \n",
      "\n",
      "[28638 rows x 12 columns]\n"
     ]
    }
   ],
   "source": [
    "# One-hot encoding\n",
    "one_hot_encoded = pd.get_dummies(data, columns=['person_home_ownership'], dtype = int)\n",
    "print(one_hot_encoded)"
   ]
  },
  {
   "cell_type": "code",
   "execution_count": 7,
   "id": "4b0dab57",
   "metadata": {},
   "outputs": [],
   "source": [
    "import pandas as pd\n",
    "from sklearn.preprocessing import MinMaxScaler, StandardScaler"
   ]
  },
  {
   "cell_type": "code",
   "execution_count": 8,
   "id": "e047c92a",
   "metadata": {},
   "outputs": [],
   "source": [
    "columns_to_normalize = ['person_age','person_income','person_emp_length','loan_amnt','loan_int_rate']"
   ]
  },
  {
   "cell_type": "code",
   "execution_count": 9,
   "id": "f78df6ce",
   "metadata": {},
   "outputs": [
    {
     "name": "stdout",
     "output_type": "stream",
     "text": [
      "       person_age  person_income  person_emp_length  loan_amnt  loan_int_rate  \\\n",
      "0        0.016129       0.009173           1.000000   1.000000       0.595506   \n",
      "1        0.008065       0.000934           0.040650   0.014493       0.321348   \n",
      "2        0.040323       0.000934           0.008130   0.144928       0.418539   \n",
      "3        0.024194       0.010257           0.032520   1.000000       0.551124   \n",
      "4        0.032258       0.008406           0.065041   1.000000       0.497191   \n",
      "...           ...            ...                ...        ...            ...   \n",
      "32576    0.298387       0.008172           0.008130   0.153623       0.434831   \n",
      "32577    0.274194       0.019346           0.032520   0.496377       0.116292   \n",
      "32578    0.362903       0.012008           0.024390   1.000000       0.312921   \n",
      "32579    0.290323       0.024350           0.040650   0.420290       0.340449   \n",
      "32580    0.370968       0.006338           0.016260   0.173188       0.256742   \n",
      "\n",
      "       loan_default  loan_percent_income  previous_default  \\\n",
      "0                 1                 0.59                 1   \n",
      "1                 0                 0.10                 0   \n",
      "2                 1                 0.57                 0   \n",
      "3                 1                 0.53                 0   \n",
      "4                 1                 0.55                 1   \n",
      "...             ...                  ...               ...   \n",
      "32576             0                 0.11                 0   \n",
      "32577             0                 0.15                 0   \n",
      "32578             1                 0.46                 0   \n",
      "32579             0                 0.10                 0   \n",
      "32580             0                 0.15                 0   \n",
      "\n",
      "       person_home_ownership_MORTGAGE  person_home_ownership_OTHER  \\\n",
      "0                                   0                            0   \n",
      "1                                   0                            0   \n",
      "2                                   1                            0   \n",
      "3                                   0                            0   \n",
      "4                                   0                            0   \n",
      "...                               ...                          ...   \n",
      "32576                               1                            0   \n",
      "32577                               1                            0   \n",
      "32578                               0                            0   \n",
      "32579                               1                            0   \n",
      "32580                               0                            0   \n",
      "\n",
      "       person_home_ownership_OWN  person_home_ownership_RENT  \n",
      "0                              0                           1  \n",
      "1                              1                           0  \n",
      "2                              0                           0  \n",
      "3                              0                           1  \n",
      "4                              0                           1  \n",
      "...                          ...                         ...  \n",
      "32576                          0                           0  \n",
      "32577                          0                           0  \n",
      "32578                          0                           1  \n",
      "32579                          0                           0  \n",
      "32580                          0                           1  \n",
      "\n",
      "[28638 rows x 12 columns]\n"
     ]
    }
   ],
   "source": [
    "# Initialize the scaler\n",
    "min_max_scaler = MinMaxScaler()\n",
    "\n",
    "# Apply Min-Max scaling to the selected columns\n",
    "one_hot_encoded[columns_to_normalize] = min_max_scaler.fit_transform(one_hot_encoded[columns_to_normalize])\n",
    "\n",
    "print(one_hot_encoded)\n"
   ]
  },
  {
   "cell_type": "code",
   "execution_count": 10,
   "id": "f813e501",
   "metadata": {},
   "outputs": [],
   "source": [
    "one_hot_encoded.to_csv('dataset.csv', index=False)"
   ]
  },
  {
   "cell_type": "code",
   "execution_count": 11,
   "id": "704c9c31",
   "metadata": {},
   "outputs": [
    {
     "data": {
      "text/html": [
       "<a href='dataset.csv' target='_blank'>dataset.csv</a><br>"
      ],
      "text/plain": [
       "C:\\Users\\jahan\\dataset.csv"
      ]
     },
     "metadata": {},
     "output_type": "display_data"
    }
   ],
   "source": [
    "from IPython.display import FileLink\n",
    "\n",
    "# Create a download link\n",
    "display(FileLink('dataset.csv'))"
   ]
  }
 ],
 "metadata": {
  "kernelspec": {
   "display_name": "Python 3 (ipykernel)",
   "language": "python",
   "name": "python3"
  },
  "language_info": {
   "codemirror_mode": {
    "name": "ipython",
    "version": 3
   },
   "file_extension": ".py",
   "mimetype": "text/x-python",
   "name": "python",
   "nbconvert_exporter": "python",
   "pygments_lexer": "ipython3",
   "version": "3.11.5"
  }
 },
 "nbformat": 4,
 "nbformat_minor": 5
}
