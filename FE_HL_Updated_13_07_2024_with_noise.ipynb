{
  "cells": [
    {
      "cell_type": "markdown",
      "source": [
        "**Generate a noisy dataset**"
      ],
      "metadata": {
        "id": "379y5ETKf93d"
      }
    },
    {
      "cell_type": "code",
      "source": [
        "\n",
        "#Create noisy dataset\n",
        "import numpy as np\n",
        "\n",
        "def generate_noise():\n",
        "  lower_end = 10\n",
        "  upper_end = 100\n",
        "  number_of_samples = 16000\n",
        "\n",
        "  #Generating random values for predictors\n",
        "  x1 = np.random.uniform(lower_end,upper_end,number_of_samples)\n",
        "  x2 = np.random.uniform(lower_end,upper_end,number_of_samples)\n",
        "  x3 = np.random.uniform(lower_end,upper_end,number_of_samples)\n",
        "  x4 = np.random.uniform(lower_end,upper_end,number_of_samples)\n",
        "  x5 = np.random.uniform(lower_end,upper_end,number_of_samples)\n",
        "  x6 = np.random.uniform(lower_end,upper_end,number_of_samples)\n",
        "  x7 = np.random.uniform(lower_end,upper_end,number_of_samples)\n",
        "  x8 = np.random.uniform(lower_end,upper_end,number_of_samples)\n",
        "  x9 = np.random.uniform(lower_end,upper_end,number_of_samples)\n",
        "  x10 = np.random.uniform(lower_end,upper_end,number_of_samples)\n",
        "  x11 = np.random.uniform(lower_end,upper_end,number_of_samples)\n",
        "\n",
        "  #Collating all predictors into one array\n",
        "  x_noise = np.column_stack([x1,x2,x3,x4,x5,x6,x7,x8,x9,x10,x11])\n",
        "\n",
        "  #Generating random values for labels with class imbalance of 40:60 for 0 and 1 respectively\n",
        "  choices = [0,1]\n",
        "  p = [0.3,0.7]\n",
        "  y_noise = np.random.choice(choices,number_of_samples,p=p)\n",
        "\n",
        "  return x_noise, y_noise\n",
        "\n",
        "x_noise, y_noise = generate_noise()"
      ],
      "metadata": {
        "id": "GFS7qfJzf9Se"
      },
      "execution_count": 1,
      "outputs": []
    },
    {
      "cell_type": "code",
      "source": [
        "x_noise.shape,y_noise.shape"
      ],
      "metadata": {
        "id": "IWRoyvnKkzj3",
        "colab": {
          "base_uri": "https://localhost:8080/"
        },
        "outputId": "7ad9d24a-8c2e-4912-9752-99e33a750c30"
      },
      "execution_count": 2,
      "outputs": [
        {
          "output_type": "execute_result",
          "data": {
            "text/plain": [
              "((16000, 11), (16000,))"
            ]
          },
          "metadata": {},
          "execution_count": 2
        }
      ]
    },
    {
      "cell_type": "markdown",
      "source": [
        "**Implementation**\n",
        "Concept - Federated Learning, Homomorphic Encryption\n",
        ";Data - Loan Default Data\n",
        ";Model - Tensorflow Keras Sequential Neural Network Model\n",
        ";Custom Functions - Generate Clients, Add Samples to existing clients"
      ],
      "metadata": {
        "id": "ZPQxXtv5-INx"
      }
    },
    {
      "cell_type": "markdown",
      "source": [
        "**Import cleaned dataset, remove NA values, and split dataset into training and holdout set**"
      ],
      "metadata": {
        "id": "lrjGWPsJ3CQf"
      }
    },
    {
      "cell_type": "code",
      "source": [
        "#Import normalized dataset and divide into x (predictors) and y(predicted)\n",
        "import numpy as np\n",
        "import pandas as pd\n",
        "df = pd.read_csv('dataset.csv',header= None,skiprows=1)"
      ],
      "metadata": {
        "id": "Kv7YJllHip06"
      },
      "execution_count": 3,
      "outputs": []
    },
    {
      "cell_type": "code",
      "source": [
        "#Dataframe with 32581 observations having 11 features and 1 predicted variable (loan default)\n",
        "df.shape"
      ],
      "metadata": {
        "id": "FnS2sQB9jECd",
        "colab": {
          "base_uri": "https://localhost:8080/"
        },
        "outputId": "c6f4a03c-d82b-41b5-eef9-c92c5fc72384"
      },
      "execution_count": 4,
      "outputs": [
        {
          "output_type": "execute_result",
          "data": {
            "text/plain": [
              "(32581, 12)"
            ]
          },
          "metadata": {},
          "execution_count": 4
        }
      ]
    },
    {
      "cell_type": "code",
      "source": [
        "#Check dataframe for null values and drop null values\n",
        "df\n",
        "df.isnull().any()\n",
        "df2 = df.dropna()\n",
        "df2.shape"
      ],
      "metadata": {
        "id": "w9dg8Iz2jI1C",
        "colab": {
          "base_uri": "https://localhost:8080/"
        },
        "outputId": "c1a42310-ada4-4386-f3c2-240a1d2bc72b"
      },
      "execution_count": 5,
      "outputs": [
        {
          "output_type": "execute_result",
          "data": {
            "text/plain": [
              "(28638, 12)"
            ]
          },
          "metadata": {},
          "execution_count": 5
        }
      ]
    },
    {
      "cell_type": "code",
      "source": [
        "#Check shape of new dataframe\n",
        "df2.shape"
      ],
      "metadata": {
        "id": "JCg8iJyXpyyS",
        "colab": {
          "base_uri": "https://localhost:8080/"
        },
        "outputId": "08fd7e30-d2e1-457e-fd7e-d4ea99f9f5d1"
      },
      "execution_count": 6,
      "outputs": [
        {
          "output_type": "execute_result",
          "data": {
            "text/plain": [
              "(28638, 12)"
            ]
          },
          "metadata": {},
          "execution_count": 6
        }
      ]
    },
    {
      "cell_type": "code",
      "source": [
        "#Check new dataframe\n",
        "df2"
      ],
      "metadata": {
        "id": "_UcS-p5_rH-C",
        "colab": {
          "base_uri": "https://localhost:8080/",
          "height": 444
        },
        "outputId": "ad06747b-7d9a-4389-9eb8-e6a054efebc6"
      },
      "execution_count": 7,
      "outputs": [
        {
          "output_type": "execute_result",
          "data": {
            "text/plain": [
              "             0         1         2         3         4     5   6   7   8   9   \\\n",
              "0      0.016129  0.009173  1.000000  1.000000  0.595506  0.59   1   0   0   0   \n",
              "1      0.008065  0.000934  0.040650  0.014493  0.321348  0.10   0   0   0   1   \n",
              "2      0.040323  0.000934  0.008130  0.144928  0.418539  0.57   0   1   0   0   \n",
              "3      0.024194  0.010257  0.032520  1.000000  0.551124  0.53   0   0   0   0   \n",
              "4      0.032258  0.008406  0.065041  1.000000  0.497191  0.55   1   0   0   0   \n",
              "...         ...       ...       ...       ...       ...   ...  ..  ..  ..  ..   \n",
              "32576  0.298387  0.008172  0.008130  0.153623  0.434831  0.11   0   1   0   0   \n",
              "32577  0.274194  0.019346  0.032520  0.496377  0.116292  0.15   0   1   0   0   \n",
              "32578  0.362903  0.012008  0.024390  1.000000  0.312921  0.46   0   0   0   0   \n",
              "32579  0.290323  0.024350  0.040650  0.420290  0.340449  0.10   0   1   0   0   \n",
              "32580  0.370968  0.006338  0.016260  0.173188  0.256742  0.15   0   0   0   0   \n",
              "\n",
              "       10  11  \n",
              "0       1   1  \n",
              "1       0   0  \n",
              "2       0   1  \n",
              "3       1   1  \n",
              "4       1   1  \n",
              "...    ..  ..  \n",
              "32576   0   0  \n",
              "32577   0   0  \n",
              "32578   1   1  \n",
              "32579   0   0  \n",
              "32580   1   0  \n",
              "\n",
              "[28638 rows x 12 columns]"
            ],
            "text/html": [
              "\n",
              "  <div id=\"df-be13a8bb-94cf-4b98-af33-c50b94a4ff89\" class=\"colab-df-container\">\n",
              "    <div>\n",
              "<style scoped>\n",
              "    .dataframe tbody tr th:only-of-type {\n",
              "        vertical-align: middle;\n",
              "    }\n",
              "\n",
              "    .dataframe tbody tr th {\n",
              "        vertical-align: top;\n",
              "    }\n",
              "\n",
              "    .dataframe thead th {\n",
              "        text-align: right;\n",
              "    }\n",
              "</style>\n",
              "<table border=\"1\" class=\"dataframe\">\n",
              "  <thead>\n",
              "    <tr style=\"text-align: right;\">\n",
              "      <th></th>\n",
              "      <th>0</th>\n",
              "      <th>1</th>\n",
              "      <th>2</th>\n",
              "      <th>3</th>\n",
              "      <th>4</th>\n",
              "      <th>5</th>\n",
              "      <th>6</th>\n",
              "      <th>7</th>\n",
              "      <th>8</th>\n",
              "      <th>9</th>\n",
              "      <th>10</th>\n",
              "      <th>11</th>\n",
              "    </tr>\n",
              "  </thead>\n",
              "  <tbody>\n",
              "    <tr>\n",
              "      <th>0</th>\n",
              "      <td>0.016129</td>\n",
              "      <td>0.009173</td>\n",
              "      <td>1.000000</td>\n",
              "      <td>1.000000</td>\n",
              "      <td>0.595506</td>\n",
              "      <td>0.59</td>\n",
              "      <td>1</td>\n",
              "      <td>0</td>\n",
              "      <td>0</td>\n",
              "      <td>0</td>\n",
              "      <td>1</td>\n",
              "      <td>1</td>\n",
              "    </tr>\n",
              "    <tr>\n",
              "      <th>1</th>\n",
              "      <td>0.008065</td>\n",
              "      <td>0.000934</td>\n",
              "      <td>0.040650</td>\n",
              "      <td>0.014493</td>\n",
              "      <td>0.321348</td>\n",
              "      <td>0.10</td>\n",
              "      <td>0</td>\n",
              "      <td>0</td>\n",
              "      <td>0</td>\n",
              "      <td>1</td>\n",
              "      <td>0</td>\n",
              "      <td>0</td>\n",
              "    </tr>\n",
              "    <tr>\n",
              "      <th>2</th>\n",
              "      <td>0.040323</td>\n",
              "      <td>0.000934</td>\n",
              "      <td>0.008130</td>\n",
              "      <td>0.144928</td>\n",
              "      <td>0.418539</td>\n",
              "      <td>0.57</td>\n",
              "      <td>0</td>\n",
              "      <td>1</td>\n",
              "      <td>0</td>\n",
              "      <td>0</td>\n",
              "      <td>0</td>\n",
              "      <td>1</td>\n",
              "    </tr>\n",
              "    <tr>\n",
              "      <th>3</th>\n",
              "      <td>0.024194</td>\n",
              "      <td>0.010257</td>\n",
              "      <td>0.032520</td>\n",
              "      <td>1.000000</td>\n",
              "      <td>0.551124</td>\n",
              "      <td>0.53</td>\n",
              "      <td>0</td>\n",
              "      <td>0</td>\n",
              "      <td>0</td>\n",
              "      <td>0</td>\n",
              "      <td>1</td>\n",
              "      <td>1</td>\n",
              "    </tr>\n",
              "    <tr>\n",
              "      <th>4</th>\n",
              "      <td>0.032258</td>\n",
              "      <td>0.008406</td>\n",
              "      <td>0.065041</td>\n",
              "      <td>1.000000</td>\n",
              "      <td>0.497191</td>\n",
              "      <td>0.55</td>\n",
              "      <td>1</td>\n",
              "      <td>0</td>\n",
              "      <td>0</td>\n",
              "      <td>0</td>\n",
              "      <td>1</td>\n",
              "      <td>1</td>\n",
              "    </tr>\n",
              "    <tr>\n",
              "      <th>...</th>\n",
              "      <td>...</td>\n",
              "      <td>...</td>\n",
              "      <td>...</td>\n",
              "      <td>...</td>\n",
              "      <td>...</td>\n",
              "      <td>...</td>\n",
              "      <td>...</td>\n",
              "      <td>...</td>\n",
              "      <td>...</td>\n",
              "      <td>...</td>\n",
              "      <td>...</td>\n",
              "      <td>...</td>\n",
              "    </tr>\n",
              "    <tr>\n",
              "      <th>32576</th>\n",
              "      <td>0.298387</td>\n",
              "      <td>0.008172</td>\n",
              "      <td>0.008130</td>\n",
              "      <td>0.153623</td>\n",
              "      <td>0.434831</td>\n",
              "      <td>0.11</td>\n",
              "      <td>0</td>\n",
              "      <td>1</td>\n",
              "      <td>0</td>\n",
              "      <td>0</td>\n",
              "      <td>0</td>\n",
              "      <td>0</td>\n",
              "    </tr>\n",
              "    <tr>\n",
              "      <th>32577</th>\n",
              "      <td>0.274194</td>\n",
              "      <td>0.019346</td>\n",
              "      <td>0.032520</td>\n",
              "      <td>0.496377</td>\n",
              "      <td>0.116292</td>\n",
              "      <td>0.15</td>\n",
              "      <td>0</td>\n",
              "      <td>1</td>\n",
              "      <td>0</td>\n",
              "      <td>0</td>\n",
              "      <td>0</td>\n",
              "      <td>0</td>\n",
              "    </tr>\n",
              "    <tr>\n",
              "      <th>32578</th>\n",
              "      <td>0.362903</td>\n",
              "      <td>0.012008</td>\n",
              "      <td>0.024390</td>\n",
              "      <td>1.000000</td>\n",
              "      <td>0.312921</td>\n",
              "      <td>0.46</td>\n",
              "      <td>0</td>\n",
              "      <td>0</td>\n",
              "      <td>0</td>\n",
              "      <td>0</td>\n",
              "      <td>1</td>\n",
              "      <td>1</td>\n",
              "    </tr>\n",
              "    <tr>\n",
              "      <th>32579</th>\n",
              "      <td>0.290323</td>\n",
              "      <td>0.024350</td>\n",
              "      <td>0.040650</td>\n",
              "      <td>0.420290</td>\n",
              "      <td>0.340449</td>\n",
              "      <td>0.10</td>\n",
              "      <td>0</td>\n",
              "      <td>1</td>\n",
              "      <td>0</td>\n",
              "      <td>0</td>\n",
              "      <td>0</td>\n",
              "      <td>0</td>\n",
              "    </tr>\n",
              "    <tr>\n",
              "      <th>32580</th>\n",
              "      <td>0.370968</td>\n",
              "      <td>0.006338</td>\n",
              "      <td>0.016260</td>\n",
              "      <td>0.173188</td>\n",
              "      <td>0.256742</td>\n",
              "      <td>0.15</td>\n",
              "      <td>0</td>\n",
              "      <td>0</td>\n",
              "      <td>0</td>\n",
              "      <td>0</td>\n",
              "      <td>1</td>\n",
              "      <td>0</td>\n",
              "    </tr>\n",
              "  </tbody>\n",
              "</table>\n",
              "<p>28638 rows × 12 columns</p>\n",
              "</div>\n",
              "    <div class=\"colab-df-buttons\">\n",
              "\n",
              "  <div class=\"colab-df-container\">\n",
              "    <button class=\"colab-df-convert\" onclick=\"convertToInteractive('df-be13a8bb-94cf-4b98-af33-c50b94a4ff89')\"\n",
              "            title=\"Convert this dataframe to an interactive table.\"\n",
              "            style=\"display:none;\">\n",
              "\n",
              "  <svg xmlns=\"http://www.w3.org/2000/svg\" height=\"24px\" viewBox=\"0 -960 960 960\">\n",
              "    <path d=\"M120-120v-720h720v720H120Zm60-500h600v-160H180v160Zm220 220h160v-160H400v160Zm0 220h160v-160H400v160ZM180-400h160v-160H180v160Zm440 0h160v-160H620v160ZM180-180h160v-160H180v160Zm440 0h160v-160H620v160Z\"/>\n",
              "  </svg>\n",
              "    </button>\n",
              "\n",
              "  <style>\n",
              "    .colab-df-container {\n",
              "      display:flex;\n",
              "      gap: 12px;\n",
              "    }\n",
              "\n",
              "    .colab-df-convert {\n",
              "      background-color: #E8F0FE;\n",
              "      border: none;\n",
              "      border-radius: 50%;\n",
              "      cursor: pointer;\n",
              "      display: none;\n",
              "      fill: #1967D2;\n",
              "      height: 32px;\n",
              "      padding: 0 0 0 0;\n",
              "      width: 32px;\n",
              "    }\n",
              "\n",
              "    .colab-df-convert:hover {\n",
              "      background-color: #E2EBFA;\n",
              "      box-shadow: 0px 1px 2px rgba(60, 64, 67, 0.3), 0px 1px 3px 1px rgba(60, 64, 67, 0.15);\n",
              "      fill: #174EA6;\n",
              "    }\n",
              "\n",
              "    .colab-df-buttons div {\n",
              "      margin-bottom: 4px;\n",
              "    }\n",
              "\n",
              "    [theme=dark] .colab-df-convert {\n",
              "      background-color: #3B4455;\n",
              "      fill: #D2E3FC;\n",
              "    }\n",
              "\n",
              "    [theme=dark] .colab-df-convert:hover {\n",
              "      background-color: #434B5C;\n",
              "      box-shadow: 0px 1px 3px 1px rgba(0, 0, 0, 0.15);\n",
              "      filter: drop-shadow(0px 1px 2px rgba(0, 0, 0, 0.3));\n",
              "      fill: #FFFFFF;\n",
              "    }\n",
              "  </style>\n",
              "\n",
              "    <script>\n",
              "      const buttonEl =\n",
              "        document.querySelector('#df-be13a8bb-94cf-4b98-af33-c50b94a4ff89 button.colab-df-convert');\n",
              "      buttonEl.style.display =\n",
              "        google.colab.kernel.accessAllowed ? 'block' : 'none';\n",
              "\n",
              "      async function convertToInteractive(key) {\n",
              "        const element = document.querySelector('#df-be13a8bb-94cf-4b98-af33-c50b94a4ff89');\n",
              "        const dataTable =\n",
              "          await google.colab.kernel.invokeFunction('convertToInteractive',\n",
              "                                                    [key], {});\n",
              "        if (!dataTable) return;\n",
              "\n",
              "        const docLinkHtml = 'Like what you see? Visit the ' +\n",
              "          '<a target=\"_blank\" href=https://colab.research.google.com/notebooks/data_table.ipynb>data table notebook</a>'\n",
              "          + ' to learn more about interactive tables.';\n",
              "        element.innerHTML = '';\n",
              "        dataTable['output_type'] = 'display_data';\n",
              "        await google.colab.output.renderOutput(dataTable, element);\n",
              "        const docLink = document.createElement('div');\n",
              "        docLink.innerHTML = docLinkHtml;\n",
              "        element.appendChild(docLink);\n",
              "      }\n",
              "    </script>\n",
              "  </div>\n",
              "\n",
              "\n",
              "<div id=\"df-df1ea0a4-f4d6-41ab-b98f-a64a365974f9\">\n",
              "  <button class=\"colab-df-quickchart\" onclick=\"quickchart('df-df1ea0a4-f4d6-41ab-b98f-a64a365974f9')\"\n",
              "            title=\"Suggest charts\"\n",
              "            style=\"display:none;\">\n",
              "\n",
              "<svg xmlns=\"http://www.w3.org/2000/svg\" height=\"24px\"viewBox=\"0 0 24 24\"\n",
              "     width=\"24px\">\n",
              "    <g>\n",
              "        <path d=\"M19 3H5c-1.1 0-2 .9-2 2v14c0 1.1.9 2 2 2h14c1.1 0 2-.9 2-2V5c0-1.1-.9-2-2-2zM9 17H7v-7h2v7zm4 0h-2V7h2v10zm4 0h-2v-4h2v4z\"/>\n",
              "    </g>\n",
              "</svg>\n",
              "  </button>\n",
              "\n",
              "<style>\n",
              "  .colab-df-quickchart {\n",
              "      --bg-color: #E8F0FE;\n",
              "      --fill-color: #1967D2;\n",
              "      --hover-bg-color: #E2EBFA;\n",
              "      --hover-fill-color: #174EA6;\n",
              "      --disabled-fill-color: #AAA;\n",
              "      --disabled-bg-color: #DDD;\n",
              "  }\n",
              "\n",
              "  [theme=dark] .colab-df-quickchart {\n",
              "      --bg-color: #3B4455;\n",
              "      --fill-color: #D2E3FC;\n",
              "      --hover-bg-color: #434B5C;\n",
              "      --hover-fill-color: #FFFFFF;\n",
              "      --disabled-bg-color: #3B4455;\n",
              "      --disabled-fill-color: #666;\n",
              "  }\n",
              "\n",
              "  .colab-df-quickchart {\n",
              "    background-color: var(--bg-color);\n",
              "    border: none;\n",
              "    border-radius: 50%;\n",
              "    cursor: pointer;\n",
              "    display: none;\n",
              "    fill: var(--fill-color);\n",
              "    height: 32px;\n",
              "    padding: 0;\n",
              "    width: 32px;\n",
              "  }\n",
              "\n",
              "  .colab-df-quickchart:hover {\n",
              "    background-color: var(--hover-bg-color);\n",
              "    box-shadow: 0 1px 2px rgba(60, 64, 67, 0.3), 0 1px 3px 1px rgba(60, 64, 67, 0.15);\n",
              "    fill: var(--button-hover-fill-color);\n",
              "  }\n",
              "\n",
              "  .colab-df-quickchart-complete:disabled,\n",
              "  .colab-df-quickchart-complete:disabled:hover {\n",
              "    background-color: var(--disabled-bg-color);\n",
              "    fill: var(--disabled-fill-color);\n",
              "    box-shadow: none;\n",
              "  }\n",
              "\n",
              "  .colab-df-spinner {\n",
              "    border: 2px solid var(--fill-color);\n",
              "    border-color: transparent;\n",
              "    border-bottom-color: var(--fill-color);\n",
              "    animation:\n",
              "      spin 1s steps(1) infinite;\n",
              "  }\n",
              "\n",
              "  @keyframes spin {\n",
              "    0% {\n",
              "      border-color: transparent;\n",
              "      border-bottom-color: var(--fill-color);\n",
              "      border-left-color: var(--fill-color);\n",
              "    }\n",
              "    20% {\n",
              "      border-color: transparent;\n",
              "      border-left-color: var(--fill-color);\n",
              "      border-top-color: var(--fill-color);\n",
              "    }\n",
              "    30% {\n",
              "      border-color: transparent;\n",
              "      border-left-color: var(--fill-color);\n",
              "      border-top-color: var(--fill-color);\n",
              "      border-right-color: var(--fill-color);\n",
              "    }\n",
              "    40% {\n",
              "      border-color: transparent;\n",
              "      border-right-color: var(--fill-color);\n",
              "      border-top-color: var(--fill-color);\n",
              "    }\n",
              "    60% {\n",
              "      border-color: transparent;\n",
              "      border-right-color: var(--fill-color);\n",
              "    }\n",
              "    80% {\n",
              "      border-color: transparent;\n",
              "      border-right-color: var(--fill-color);\n",
              "      border-bottom-color: var(--fill-color);\n",
              "    }\n",
              "    90% {\n",
              "      border-color: transparent;\n",
              "      border-bottom-color: var(--fill-color);\n",
              "    }\n",
              "  }\n",
              "</style>\n",
              "\n",
              "  <script>\n",
              "    async function quickchart(key) {\n",
              "      const quickchartButtonEl =\n",
              "        document.querySelector('#' + key + ' button');\n",
              "      quickchartButtonEl.disabled = true;  // To prevent multiple clicks.\n",
              "      quickchartButtonEl.classList.add('colab-df-spinner');\n",
              "      try {\n",
              "        const charts = await google.colab.kernel.invokeFunction(\n",
              "            'suggestCharts', [key], {});\n",
              "      } catch (error) {\n",
              "        console.error('Error during call to suggestCharts:', error);\n",
              "      }\n",
              "      quickchartButtonEl.classList.remove('colab-df-spinner');\n",
              "      quickchartButtonEl.classList.add('colab-df-quickchart-complete');\n",
              "    }\n",
              "    (() => {\n",
              "      let quickchartButtonEl =\n",
              "        document.querySelector('#df-df1ea0a4-f4d6-41ab-b98f-a64a365974f9 button');\n",
              "      quickchartButtonEl.style.display =\n",
              "        google.colab.kernel.accessAllowed ? 'block' : 'none';\n",
              "    })();\n",
              "  </script>\n",
              "</div>\n",
              "\n",
              "  <div id=\"id_73bac3ba-2c88-452b-b56b-d7dab35960e5\">\n",
              "    <style>\n",
              "      .colab-df-generate {\n",
              "        background-color: #E8F0FE;\n",
              "        border: none;\n",
              "        border-radius: 50%;\n",
              "        cursor: pointer;\n",
              "        display: none;\n",
              "        fill: #1967D2;\n",
              "        height: 32px;\n",
              "        padding: 0 0 0 0;\n",
              "        width: 32px;\n",
              "      }\n",
              "\n",
              "      .colab-df-generate:hover {\n",
              "        background-color: #E2EBFA;\n",
              "        box-shadow: 0px 1px 2px rgba(60, 64, 67, 0.3), 0px 1px 3px 1px rgba(60, 64, 67, 0.15);\n",
              "        fill: #174EA6;\n",
              "      }\n",
              "\n",
              "      [theme=dark] .colab-df-generate {\n",
              "        background-color: #3B4455;\n",
              "        fill: #D2E3FC;\n",
              "      }\n",
              "\n",
              "      [theme=dark] .colab-df-generate:hover {\n",
              "        background-color: #434B5C;\n",
              "        box-shadow: 0px 1px 3px 1px rgba(0, 0, 0, 0.15);\n",
              "        filter: drop-shadow(0px 1px 2px rgba(0, 0, 0, 0.3));\n",
              "        fill: #FFFFFF;\n",
              "      }\n",
              "    </style>\n",
              "    <button class=\"colab-df-generate\" onclick=\"generateWithVariable('df2')\"\n",
              "            title=\"Generate code using this dataframe.\"\n",
              "            style=\"display:none;\">\n",
              "\n",
              "  <svg xmlns=\"http://www.w3.org/2000/svg\" height=\"24px\"viewBox=\"0 0 24 24\"\n",
              "       width=\"24px\">\n",
              "    <path d=\"M7,19H8.4L18.45,9,17,7.55,7,17.6ZM5,21V16.75L18.45,3.32a2,2,0,0,1,2.83,0l1.4,1.43a1.91,1.91,0,0,1,.58,1.4,1.91,1.91,0,0,1-.58,1.4L9.25,21ZM18.45,9,17,7.55Zm-12,3A5.31,5.31,0,0,0,4.9,8.1,5.31,5.31,0,0,0,1,6.5,5.31,5.31,0,0,0,4.9,4.9,5.31,5.31,0,0,0,6.5,1,5.31,5.31,0,0,0,8.1,4.9,5.31,5.31,0,0,0,12,6.5,5.46,5.46,0,0,0,6.5,12Z\"/>\n",
              "  </svg>\n",
              "    </button>\n",
              "    <script>\n",
              "      (() => {\n",
              "      const buttonEl =\n",
              "        document.querySelector('#id_73bac3ba-2c88-452b-b56b-d7dab35960e5 button.colab-df-generate');\n",
              "      buttonEl.style.display =\n",
              "        google.colab.kernel.accessAllowed ? 'block' : 'none';\n",
              "\n",
              "      buttonEl.onclick = () => {\n",
              "        google.colab.notebook.generateWithVariable('df2');\n",
              "      }\n",
              "      })();\n",
              "    </script>\n",
              "  </div>\n",
              "\n",
              "    </div>\n",
              "  </div>\n"
            ],
            "application/vnd.google.colaboratory.intrinsic+json": {
              "type": "dataframe",
              "variable_name": "df2",
              "summary": "{\n  \"name\": \"df2\",\n  \"rows\": 28638,\n  \"fields\": [\n    {\n      \"column\": 0,\n      \"properties\": {\n        \"dtype\": \"number\",\n        \"std\": 0.050890652566933814,\n        \"min\": 0.0,\n        \"max\": 1.0,\n        \"num_unique_values\": 57,\n        \"samples\": [\n          0.016129032,\n          0.048387097,\n          0.225806452\n        ],\n        \"semantic_type\": \"\",\n        \"description\": \"\"\n      }\n    },\n    {\n      \"column\": 1,\n      \"properties\": {\n        \"dtype\": \"number\",\n        \"std\": 0.010399674352581283,\n        \"min\": 0.0,\n        \"max\": 1.0,\n        \"num_unique_values\": 3835,\n        \"samples\": [\n          0.007354903,\n          0.008074716,\n          0.00798032\n        ],\n        \"semantic_type\": \"\",\n        \"description\": \"\"\n      }\n    },\n    {\n      \"column\": 2,\n      \"properties\": {\n        \"dtype\": \"number\",\n        \"std\": 0.03377745259999697,\n        \"min\": 0.0,\n        \"max\": 1.0,\n        \"num_unique_values\": 36,\n        \"samples\": [\n          0.243902439,\n          0.146341463,\n          0.211382114\n        ],\n        \"semantic_type\": \"\",\n        \"description\": \"\"\n      }\n    },\n    {\n      \"column\": 3,\n      \"properties\": {\n        \"dtype\": \"number\",\n        \"std\": 0.18346908292083203,\n        \"min\": 0.0,\n        \"max\": 1.0,\n        \"num_unique_values\": 728,\n        \"samples\": [\n          0.739130435,\n          0.413043478,\n          0.223188406\n        ],\n        \"semantic_type\": \"\",\n        \"description\": \"\"\n      }\n    },\n    {\n      \"column\": 4,\n      \"properties\": {\n        \"dtype\": \"number\",\n        \"std\": 0.18142537977774065,\n        \"min\": 0.0,\n        \"max\": 1.0,\n        \"num_unique_values\": 348,\n        \"samples\": [\n          0.273033708,\n          0.126966292,\n          0.652247191\n        ],\n        \"semantic_type\": \"\",\n        \"description\": \"\"\n      }\n    },\n    {\n      \"column\": 5,\n      \"properties\": {\n        \"dtype\": \"number\",\n        \"std\": 0.10639251098884496,\n        \"min\": 0.0,\n        \"max\": 0.83,\n        \"num_unique_values\": 77,\n        \"samples\": [\n          0.55,\n          0.34,\n          0.41\n        ],\n        \"semantic_type\": \"\",\n        \"description\": \"\"\n      }\n    },\n    {\n      \"column\": 6,\n      \"properties\": {\n        \"dtype\": \"number\",\n        \"std\": 0,\n        \"min\": 0,\n        \"max\": 1,\n        \"num_unique_values\": 2,\n        \"samples\": [\n          0,\n          1\n        ],\n        \"semantic_type\": \"\",\n        \"description\": \"\"\n      }\n    },\n    {\n      \"column\": 7,\n      \"properties\": {\n        \"dtype\": \"number\",\n        \"std\": 0,\n        \"min\": 0,\n        \"max\": 1,\n        \"num_unique_values\": 2,\n        \"samples\": [\n          1,\n          0\n        ],\n        \"semantic_type\": \"\",\n        \"description\": \"\"\n      }\n    },\n    {\n      \"column\": 8,\n      \"properties\": {\n        \"dtype\": \"number\",\n        \"std\": 0,\n        \"min\": 0,\n        \"max\": 1,\n        \"num_unique_values\": 2,\n        \"samples\": [\n          1,\n          0\n        ],\n        \"semantic_type\": \"\",\n        \"description\": \"\"\n      }\n    },\n    {\n      \"column\": 9,\n      \"properties\": {\n        \"dtype\": \"number\",\n        \"std\": 0,\n        \"min\": 0,\n        \"max\": 1,\n        \"num_unique_values\": 2,\n        \"samples\": [\n          1,\n          0\n        ],\n        \"semantic_type\": \"\",\n        \"description\": \"\"\n      }\n    },\n    {\n      \"column\": 10,\n      \"properties\": {\n        \"dtype\": \"number\",\n        \"std\": 0,\n        \"min\": 0,\n        \"max\": 1,\n        \"num_unique_values\": 2,\n        \"samples\": [\n          0,\n          1\n        ],\n        \"semantic_type\": \"\",\n        \"description\": \"\"\n      }\n    },\n    {\n      \"column\": 11,\n      \"properties\": {\n        \"dtype\": \"number\",\n        \"std\": 0,\n        \"min\": 0,\n        \"max\": 1,\n        \"num_unique_values\": 2,\n        \"samples\": [\n          0,\n          1\n        ],\n        \"semantic_type\": \"\",\n        \"description\": \"\"\n      }\n    }\n  ]\n}"
            }
          },
          "metadata": {},
          "execution_count": 7
        }
      ]
    },
    {
      "cell_type": "code",
      "source": [
        "#Create a holdout set for evaluation to find loss and accuracy at each aggregator epoch\n",
        "from sklearn.model_selection import train_test_split\n",
        "df_train, df_holdout = train_test_split(df2, test_size=0.3, random_state=42)\n",
        "df_train.shape,df_holdout.shape"
      ],
      "metadata": {
        "id": "OfSpAhHv3d6b",
        "colab": {
          "base_uri": "https://localhost:8080/"
        },
        "outputId": "e17a7a72-4fa5-475e-a877-33562581a7c4"
      },
      "execution_count": 8,
      "outputs": [
        {
          "output_type": "execute_result",
          "data": {
            "text/plain": [
              "((20046, 12), (8592, 12))"
            ]
          },
          "metadata": {},
          "execution_count": 8
        }
      ]
    },
    {
      "cell_type": "code",
      "source": [
        "#Define x_holdout and y_holdout from df_holdout\n",
        "\n",
        "x_holdout = df_holdout.drop(df_holdout.columns[11], axis=1)\n",
        "y_holdout = df_holdout[df_holdout.columns[11]]\n",
        "df_holdout.shape,x_holdout.shape,y_holdout.shape\n",
        "y_holdout.value_counts()"
      ],
      "metadata": {
        "id": "V19yV0-hiH6r",
        "colab": {
          "base_uri": "https://localhost:8080/"
        },
        "outputId": "26a794c3-3548-46df-8e11-40d470f313aa"
      },
      "execution_count": 9,
      "outputs": [
        {
          "output_type": "execute_result",
          "data": {
            "text/plain": [
              "11\n",
              "0    6715\n",
              "1    1877\n",
              "Name: count, dtype: int64"
            ]
          },
          "metadata": {},
          "execution_count": 9
        }
      ]
    },
    {
      "cell_type": "code",
      "source": [
        "#Convert x_holdout and y_holdout to array\n",
        "x_holdout = x_holdout.to_numpy()\n",
        "y_holdout = y_holdout.to_numpy()\n",
        "type(x_holdout),type(y_holdout)"
      ],
      "metadata": {
        "id": "I3uhYgKAjCQf",
        "colab": {
          "base_uri": "https://localhost:8080/"
        },
        "outputId": "317af7f5-9e43-449a-8fda-98d27a3abf98"
      },
      "execution_count": 10,
      "outputs": [
        {
          "output_type": "execute_result",
          "data": {
            "text/plain": [
              "(numpy.ndarray, numpy.ndarray)"
            ]
          },
          "metadata": {},
          "execution_count": 10
        }
      ]
    },
    {
      "cell_type": "code",
      "source": [
        "#Check shape of training set\n",
        "df_train.shape"
      ],
      "metadata": {
        "id": "6Z1b4jH-i1Wb",
        "colab": {
          "base_uri": "https://localhost:8080/"
        },
        "outputId": "0b568479-b797-4e72-bbdf-62a141ab2113"
      },
      "execution_count": 11,
      "outputs": [
        {
          "output_type": "execute_result",
          "data": {
            "text/plain": [
              "(20046, 12)"
            ]
          },
          "metadata": {},
          "execution_count": 11
        }
      ]
    },
    {
      "cell_type": "code",
      "source": [
        "# Drop predicted variable to create x\n",
        "x1 = df_train.drop(df.columns[11], axis=1)\n",
        "# Keep predicted variable to create y\n",
        "y1 = df_train[df_train.columns[11]]"
      ],
      "metadata": {
        "id": "1dyNdLCJjbg0"
      },
      "execution_count": 12,
      "outputs": []
    },
    {
      "cell_type": "code",
      "source": [
        "#Convert x and y from dataframe to numpy array and check if conversion is successful\n",
        "x = x1.to_numpy()\n",
        "y = y1.to_numpy()\n",
        "type(x),type(y)"
      ],
      "metadata": {
        "id": "uPe_cUAmjcLy",
        "colab": {
          "base_uri": "https://localhost:8080/"
        },
        "outputId": "3cd63df6-d674-4c14-f337-52b558abe984"
      },
      "execution_count": 13,
      "outputs": [
        {
          "output_type": "execute_result",
          "data": {
            "text/plain": [
              "(numpy.ndarray, numpy.ndarray)"
            ]
          },
          "metadata": {},
          "execution_count": 13
        }
      ]
    },
    {
      "cell_type": "code",
      "source": [
        "x,y"
      ],
      "metadata": {
        "id": "z0S1ykA6sUvy",
        "colab": {
          "base_uri": "https://localhost:8080/"
        },
        "outputId": "f9fc018a-3927-48f7-a724-a45b53a29841"
      },
      "execution_count": 14,
      "outputs": [
        {
          "output_type": "execute_result",
          "data": {
            "text/plain": [
              "(array([[0.12903226, 0.07104737, 0.01626016, ..., 0.        , 0.        ,\n",
              "         1.        ],\n",
              "        [0.08064516, 0.00733823, 0.00813008, ..., 0.        , 0.        ,\n",
              "         1.        ],\n",
              "        [0.03225807, 0.00957305, 0.00813008, ..., 0.        , 0.        ,\n",
              "         1.        ],\n",
              "        ...,\n",
              "        [0.01612903, 0.00333556, 0.00813008, ..., 0.        , 1.        ,\n",
              "         0.        ],\n",
              "        [0.08064516, 0.03685791, 0.01626016, ..., 0.        , 0.        ,\n",
              "         1.        ],\n",
              "        [0.10483871, 0.0188459 , 0.13821138, ..., 0.        , 0.        ,\n",
              "         0.        ]]),\n",
              " array([0, 0, 0, ..., 0, 0, 0]))"
            ]
          },
          "metadata": {},
          "execution_count": 14
        }
      ]
    },
    {
      "cell_type": "markdown",
      "source": [
        "**Build a client side model**"
      ],
      "metadata": {
        "id": "Q9g1zq5_1_Tm"
      }
    },
    {
      "cell_type": "code",
      "execution_count": 15,
      "metadata": {
        "id": "hTMKh8YRpH_7",
        "colab": {
          "base_uri": "https://localhost:8080/"
        },
        "outputId": "2fb30375-9408-4927-a376-a42c3a662bb1"
      },
      "outputs": [
        {
          "output_type": "execute_result",
          "data": {
            "text/plain": [
              "<keras.src.engine.sequential.Sequential at 0x7b65cfc66b90>"
            ]
          },
          "metadata": {},
          "execution_count": 15
        }
      ],
      "source": [
        "#Client side model\n",
        "import tensorflow\n",
        "def client_side_model(initial_weights = None):\n",
        "\n",
        "  client_model = tensorflow.keras.models.Sequential([\n",
        "    tensorflow.keras.layers.Input((11,)),\n",
        "    tensorflow.keras.layers.Dense(8, activation=\"relu\"),\n",
        "    tensorflow.keras.layers.Dense(1, activation=\"sigmoid\")\n",
        "  ])\n",
        "\n",
        "  client_model.compile(loss=\"binary_crossentropy\", optimizer=\"adam\", metrics=[\"acc\"])\n",
        "\n",
        "  if initial_weights != None:\n",
        "\n",
        "    client_model.set_weights(initial_weights)\n",
        "\n",
        "  return client_model\n",
        "\n",
        "client_side_model()\n",
        "\n"
      ]
    },
    {
      "cell_type": "markdown",
      "source": [
        "**Build an Aggregator side model (also called as Centralized Server)**"
      ],
      "metadata": {
        "id": "pAOpBL5h2H1t"
      }
    },
    {
      "cell_type": "code",
      "execution_count": 16,
      "metadata": {
        "id": "KjabfyQApIDE",
        "colab": {
          "base_uri": "https://localhost:8080/"
        },
        "outputId": "a3bc6c88-0f2a-44ad-f9ba-dd9e99bfa902"
      },
      "outputs": [
        {
          "output_type": "execute_result",
          "data": {
            "text/plain": [
              "<keras.src.engine.sequential.Sequential at 0x7b65cfe1b8b0>"
            ]
          },
          "metadata": {},
          "execution_count": 16
        }
      ],
      "source": [
        "#Aggregator model / Centralized model\n",
        "\n",
        "def build_aggregator_model():\n",
        "\n",
        "  aggregator_model = client_side_model()\n",
        "\n",
        "  weights = aggregator_model.get_weights()\n",
        "\n",
        "  weights = [0*i for i in weights]\n",
        "\n",
        "  aggregator_model.set_weights(weights)\n",
        "\n",
        "  return aggregator_model\n",
        "\n",
        "build_aggregator_model()"
      ]
    },
    {
      "cell_type": "markdown",
      "source": [
        "**Simulate 5 clients by dividing the dataset into 5 client datasets containing equal number of random samples without replacement**"
      ],
      "metadata": {
        "id": "3ckKbuRe2Q92"
      }
    },
    {
      "cell_type": "code",
      "source": [
        "#Generate multiple clients to simulate federated learning\n",
        "\n",
        "number_of_clients = 5\n",
        "\n",
        "number_of_samples = 10000\n",
        "\n",
        "number_of_samples_per_client = number_of_samples // number_of_clients\n",
        "\n",
        "def generate_clients(number_of_clients,x,y):\n",
        "\n",
        "  #Create a dictionary with key as client # and value as indices\n",
        "  clients = {i:[] for i in range(number_of_clients)}\n",
        "\n",
        "  #Set initial indices equal to number of rows of x\n",
        "  indices = np.arange(x.shape[0])\n",
        "\n",
        "  #Assign equal number of random samples from x to each client\n",
        "  for client in clients.keys():\n",
        "\n",
        "    clients[client] = np.random.choice(indices,\n",
        "                                          number_of_samples_per_client,\n",
        "                                          replace = False)\n",
        "    #Update indices to all indices except the ones assigned to current client\n",
        "    indices = np.array([i for i in indices if i not in clients[client]])\n",
        "\n",
        "  #Generate a new client dictionary to store respective x and y values for each client\n",
        "  clients_dataset = {}\n",
        "\n",
        "  for client in clients.keys():\n",
        "\n",
        "    clients_dataset.update({client: [x[clients[client]],y[clients[client]]]})\n",
        "\n",
        "  return clients_dataset,clients,indices\n",
        "\n",
        "#Show dataset for client 0\n",
        "#generate_clients(number_of_clients,x,y)[0]"
      ],
      "metadata": {
        "id": "54yK5DBr-u2u"
      },
      "execution_count": 17,
      "outputs": []
    },
    {
      "cell_type": "markdown",
      "source": [
        "**Define function to add 500 new samples without replacement for every aggregator iteration from aggregator round 2**"
      ],
      "metadata": {
        "id": "RBJhfa6d2xha"
      }
    },
    {
      "cell_type": "code",
      "source": [
        "#Add 500 new samples to each client\n",
        "def add_samples(clients_dataset,client_indices,unpicked_indices):\n",
        "  #Create new indices and append to existing indices\n",
        "  for indices in client_indices.keys():\n",
        "    #Store original indices in a new variable\n",
        "    original_indices = np.array(client_indices[indices])\n",
        "    #Generate additional 500 indices by random choice\n",
        "    additional_indices = np.random.choice(unpicked_indices,500,replace = False)\n",
        "    #Append the additional 500 indices to original indices\n",
        "    client_indices[indices] = np.concatenate((original_indices,additional_indices))\n",
        "    #Check length to check  if new indices are added successfully\n",
        "    #print(len(client_indices[indices]))\n",
        "    #Update the unpicked_indices by excluding the picked indices\n",
        "    unpicked_indices = np.array([i for i in unpicked_indices if i not in client_indices[indices]])\n",
        "    #Check length of unpicked_indices to check if the count is reducing\n",
        "    #print(len(unpicked_indices))\n",
        "  #Update the client dataset with new observations\n",
        "  for client in clients_dataset.keys():\n",
        "    clients_dataset.update({client: [x[client_indices[client]],y[client_indices[client]]]})\n",
        "    #print(clients_dataset[client][0].shape)\n",
        "  return clients_dataset"
      ],
      "metadata": {
        "id": "9HMU6LTdGZex"
      },
      "execution_count": 18,
      "outputs": []
    },
    {
      "cell_type": "markdown",
      "source": [
        "**Import package and define function to generate homomorphically encrypted data**"
      ],
      "metadata": {
        "id": "hBJvK8-l3Qgf"
      }
    },
    {
      "cell_type": "code",
      "source": [
        "#Import homomorphic encryption package\n",
        "!pip install tenseal"
      ],
      "metadata": {
        "id": "uX9Nz9fkYfrc",
        "colab": {
          "base_uri": "https://localhost:8080/"
        },
        "outputId": "c473eaa3-8579-4ccd-e15b-a3ed00c065b7"
      },
      "execution_count": 19,
      "outputs": [
        {
          "output_type": "stream",
          "name": "stdout",
          "text": [
            "Requirement already satisfied: tenseal in /usr/local/lib/python3.10/dist-packages (0.3.14)\n"
          ]
        }
      ]
    },
    {
      "cell_type": "code",
      "source": [
        "#Create recursive function to calculate a store the encrypted weights in a list\n",
        "import tenseal as ts\n",
        "\n",
        "def encrypt_list(weighted_list):\n",
        "    for element in weighted_list:\n",
        "        if isinstance(element, list):\n",
        "            #print(\"the element list: \", element)\n",
        "            encrypt_list(element)\n",
        "        else:\n",
        "            #print(\"the element value: \", element)\n",
        "            context = ts.context(ts.SCHEME_TYPE.BFV, poly_modulus_degree=4096, plain_modulus=1032193)\n",
        "            context.generate_galois_keys()\n",
        "            enc_weights = ts.bfv_vector(context, [element])\n",
        "\n",
        "    return weighted_list"
      ],
      "metadata": {
        "id": "0aglofCKZaE_"
      },
      "execution_count": 20,
      "outputs": []
    },
    {
      "cell_type": "code",
      "source": [
        "#Custom Function to calculate metrics based on custom threshold\n",
        "from sklearn.metrics import precision_score, recall_score, f1_score, accuracy_score, log_loss\n",
        "def custom_metrics(model, y_true, x_holdout, threshold):\n",
        "  #Predict probabilities of y based on x_holdout\n",
        "  y_pred_prob = model.predict(x_holdout)\n",
        "  #Convert probabilities to prediction using custom threshold\n",
        "  y_pred = (y_pred_prob > threshold).astype(int)\n",
        "  #Calculate metrics\n",
        "  #accuracy\n",
        "  accuracy = accuracy_score(y_true, y_pred)\n",
        "  #loss\n",
        "  loss = log_loss(y_true, y_pred_prob)\n",
        "  #precision\n",
        "  precision = precision_score(y_true, y_pred, zero_division=0)\n",
        "  #recall\n",
        "  recall = recall_score(y_true, y_pred, zero_division=0)\n",
        "  #F1-Score\n",
        "  f1 = f1_score(y_true, y_pred, zero_division=0)\n",
        "\n",
        "  return accuracy, loss, precision, recall, f1\n"
      ],
      "metadata": {
        "id": "_M-X9xSKf92v"
      },
      "execution_count": 21,
      "outputs": []
    },
    {
      "cell_type": "markdown",
      "source": [
        "**Build a federated learning model using Aggregator model, Client model, Randomly sampled clients (2000 observations each initially), and add 500 new samples to each client at every iteration with Noise**"
      ],
      "metadata": {
        "id": "ELgfXkCzKs1S"
      }
    },
    {
      "cell_type": "markdown",
      "source": [
        "**Effect of Noise**"
      ],
      "metadata": {
        "id": "ZfJ7bx3025GX"
      }
    },
    {
      "cell_type": "code",
      "source": [
        "#Execute a Federated Learning model\n",
        "\n",
        "from tqdm import trange\n",
        "\n",
        "#Total number of training rounds between aggregator model and client model\n",
        "aggregator_epochs = 5\n",
        "#Number of epochs for each client model\n",
        "client_epochs = 20\n",
        "\n",
        "#Empty dictionary with client # as key and client_weights as value\n",
        "client_weights = {client: None for client in range(number_of_clients)}\n",
        "#Empty lists to store loss and accuracy at each epoch\n",
        "aggregator_loss = []\n",
        "aggregator_accuracy = []\n",
        "aggregator_precision = []\n",
        "aggregator_recall = []\n",
        "aggregator_f1 = []\n",
        "#Instantiate aggregator model\n",
        "aggregator_model = build_aggregator_model()\n",
        "#Set default weights for aggregator model\n",
        "aggregator_weights = aggregator_model.get_weights()\n",
        "\n",
        "#Divide client dataset into number of clients\n",
        "clients_dataset,client_indices,unpicked_indices = generate_clients(number_of_clients,x,y)\n",
        "\n",
        "for epoch in trange(aggregator_epochs, desc=\"Aggregator Model\"):\n",
        "\n",
        "  samples_per_client_epoch = clients_dataset[0][0].shape[0]\n",
        "  print(\"\\n\")\n",
        "  print(\"For Epoch {}, each client contains {} samples\".format(epoch,samples_per_client_epoch))\n",
        "\n",
        "  for client in client_weights.keys():\n",
        "\n",
        "    #Initially 0 but later will update\n",
        "    weight = client_weights[client]\n",
        "    #Set weights for each client epoch\n",
        "    client_model =  client_side_model(weight)\n",
        "    #Train the model on respective client dataset ~ 0 is for x and 1 is for y\n",
        "    client_model.fit(clients_dataset[client][0],\n",
        "                    clients_dataset[client][1],\n",
        "                    epochs = client_epochs, verbose = False,\n",
        "                    validation_split=0.1)\n",
        "    #Update the client weight which was initially zero with newly trained weights\n",
        "    client_weights[client] = client_model.get_weights()\n",
        "    #Reset client model for current client epoch to prepare for next client epoch\n",
        "    client_model = None\n",
        "    print(\"\\n\")\n",
        "    print(\"Client {} weights updated for Aggregator Epoch {}\".format(client,epoch))\n",
        "\n",
        "  client_weights = encrypt_list(client_weights)\n",
        "\n",
        "  #enc_weights = ts.bfv_vector(context, client_weights[client])\n",
        "\n",
        "  #Calculate the mean of all client weights and store as aggregator weights\n",
        "  aggregator_weights = [np.mean([client_weights[client][index] for client in range(number_of_clients)],\n",
        "                                  axis = 0) for index in range(len(aggregator_weights))]\n",
        "  print(\"\\n\")\n",
        "  print(\"Mean weights calculated for Aggregator Epoch {}\".format(epoch))\n",
        "  #Set the weights for the aggregator model for each epoch\n",
        "  aggregator_model.set_weights(aggregator_weights)\n",
        "  print(\"\\n\")\n",
        "  print(\"Aggregator weights updated for Aggregator Epoch {}\".format(epoch))\n",
        "  #Calculate the loss and accuracy for each epoch of aggregator model\n",
        "  #loss, accuracy = aggregator_model.evaluate(x_holdout,y_holdout,verbose=False)\n",
        "  accuracy, loss, precision, recall, f1 = custom_metrics(aggregator_model,y_holdout,x_holdout,0.4)\n",
        "  print(\"\\n\")\n",
        "  print(\"For Aggregator Epoch {} the loss is {}, the accuracy is {}, the precision is {}, the recall is {}, the F1-score is {}\".format(epoch,loss,accuracy,precision,recall,f1))\n",
        "  #Store the loss and accuracy at every epoch in respective lists\n",
        "  aggregator_loss.append(loss)\n",
        "  aggregator_accuracy.append(accuracy)\n",
        "  aggregator_precision.append(precision)\n",
        "  aggregator_recall.append(recall)\n",
        "  aggregator_f1.append(f1)\n",
        "  #Set all client weights equal to aggregator weights\n",
        "  client_weights = {client: aggregator_weights for client in client_weights.keys()}\n",
        "  print(\"\\n\")\n",
        "  print(\"Client weights updated for Aggregator Epoch {}\".format(epoch))\n",
        "\n",
        "  #Add additional 500 samples to each client\n",
        "  if epoch != aggregator_epochs - 1:\n",
        "    clients_dataset = add_samples(clients_dataset,client_indices,unpicked_indices)\n",
        "  #Add noisy client\n",
        "  if epoch == aggregator_epochs - 2:\n",
        "    x_noise, y_noise = generate_noise()\n",
        "    print(\"\\n\")\n",
        "    print(\"Client 4 sending noisy data of 16000 samples\")\n",
        "    clients_dataset[4] = [x_noise,y_noise]\n"
      ],
      "metadata": {
        "id": "oW8WeTREKrAn",
        "colab": {
          "base_uri": "https://localhost:8080/"
        },
        "outputId": "4f3f6922-043e-4ce9-a000-2013c5d9a4ec"
      },
      "execution_count": 22,
      "outputs": [
        {
          "output_type": "stream",
          "name": "stderr",
          "text": [
            "\rAggregator Model:   0%|          | 0/5 [00:00<?, ?it/s]"
          ]
        },
        {
          "output_type": "stream",
          "name": "stdout",
          "text": [
            "\n",
            "\n",
            "For Epoch 0, each client contains 2000 samples\n",
            "\n",
            "\n",
            "Client 0 weights updated for Aggregator Epoch 0\n",
            "\n",
            "\n",
            "Client 1 weights updated for Aggregator Epoch 0\n",
            "\n",
            "\n",
            "Client 2 weights updated for Aggregator Epoch 0\n",
            "\n",
            "\n",
            "Client 3 weights updated for Aggregator Epoch 0\n",
            "\n",
            "\n",
            "Client 4 weights updated for Aggregator Epoch 0\n",
            "\n",
            "\n",
            "Mean weights calculated for Aggregator Epoch 0\n",
            "\n",
            "\n",
            "Aggregator weights updated for Aggregator Epoch 0\n",
            "269/269 [==============================] - 0s 1ms/step\n",
            "\n",
            "\n",
            "For Aggregator Epoch 0 the loss is 0.5512574929089772, the accuracy is 0.7873603351955307, the precision is 0.5116713352007469, the recall is 0.5839104954714971, the F1-score is 0.545409305797462\n",
            "\n",
            "\n",
            "Client weights updated for Aggregator Epoch 0\n"
          ]
        },
        {
          "output_type": "stream",
          "name": "stderr",
          "text": [
            "\rAggregator Model:  20%|██        | 1/5 [00:39<02:36, 39.14s/it]"
          ]
        },
        {
          "output_type": "stream",
          "name": "stdout",
          "text": [
            "\n",
            "\n",
            "For Epoch 1, each client contains 2500 samples\n",
            "\n",
            "\n",
            "Client 0 weights updated for Aggregator Epoch 1\n",
            "\n",
            "\n",
            "Client 1 weights updated for Aggregator Epoch 1\n",
            "\n",
            "\n",
            "Client 2 weights updated for Aggregator Epoch 1\n",
            "\n",
            "\n",
            "Client 3 weights updated for Aggregator Epoch 1\n",
            "\n",
            "\n",
            "Client 4 weights updated for Aggregator Epoch 1\n",
            "\n",
            "\n",
            "Mean weights calculated for Aggregator Epoch 1\n",
            "\n",
            "\n",
            "Aggregator weights updated for Aggregator Epoch 1\n",
            "269/269 [==============================] - 0s 1ms/step\n",
            "\n",
            "\n",
            "For Aggregator Epoch 1 the loss is 0.3976745318209256, the accuracy is 0.8337988826815642, the precision is 0.6712433257055682, the recall is 0.46883324453915826, the F1-score is 0.5520702634880803\n",
            "\n",
            "\n",
            "Client weights updated for Aggregator Epoch 1\n"
          ]
        },
        {
          "output_type": "stream",
          "name": "stderr",
          "text": [
            "\rAggregator Model:  40%|████      | 2/5 [01:03<01:30, 30.24s/it]"
          ]
        },
        {
          "output_type": "stream",
          "name": "stdout",
          "text": [
            "\n",
            "\n",
            "For Epoch 2, each client contains 3000 samples\n",
            "\n",
            "\n",
            "Client 0 weights updated for Aggregator Epoch 2\n",
            "\n",
            "\n",
            "Client 1 weights updated for Aggregator Epoch 2\n",
            "\n",
            "\n",
            "Client 2 weights updated for Aggregator Epoch 2\n",
            "\n",
            "\n",
            "Client 3 weights updated for Aggregator Epoch 2\n",
            "\n",
            "\n",
            "Client 4 weights updated for Aggregator Epoch 2\n",
            "\n",
            "\n",
            "Mean weights calculated for Aggregator Epoch 2\n",
            "\n",
            "\n",
            "Aggregator weights updated for Aggregator Epoch 2\n",
            "269/269 [==============================] - 0s 1ms/step\n",
            "\n",
            "\n",
            "For Aggregator Epoch 2 the loss is 0.37807920551307234, the accuracy is 0.8375232774674115, the precision is 0.6560674886437379, the recall is 0.5386254661694193, the F1-score is 0.5915740198946752\n",
            "\n",
            "\n",
            "Client weights updated for Aggregator Epoch 2\n"
          ]
        },
        {
          "output_type": "stream",
          "name": "stderr",
          "text": [
            "\rAggregator Model:  60%|██████    | 3/5 [01:30<00:57, 28.81s/it]"
          ]
        },
        {
          "output_type": "stream",
          "name": "stdout",
          "text": [
            "\n",
            "\n",
            "For Epoch 3, each client contains 3500 samples\n",
            "\n",
            "\n",
            "Client 0 weights updated for Aggregator Epoch 3\n",
            "\n",
            "\n",
            "Client 1 weights updated for Aggregator Epoch 3\n",
            "\n",
            "\n",
            "Client 2 weights updated for Aggregator Epoch 3\n",
            "\n",
            "\n",
            "Client 3 weights updated for Aggregator Epoch 3\n",
            "\n",
            "\n",
            "Client 4 weights updated for Aggregator Epoch 3\n",
            "\n",
            "\n",
            "Mean weights calculated for Aggregator Epoch 3\n",
            "\n",
            "\n",
            "Aggregator weights updated for Aggregator Epoch 3\n",
            "269/269 [==============================] - 0s 1ms/step\n",
            "\n",
            "\n",
            "For Aggregator Epoch 3 the loss is 0.3752669873146936, the accuracy is 0.8347299813780261, the precision is 0.6425452276980661, the recall is 0.5487480021310602, the F1-score is 0.5919540229885057\n",
            "\n",
            "\n",
            "Client weights updated for Aggregator Epoch 3\n"
          ]
        },
        {
          "output_type": "stream",
          "name": "stderr",
          "text": [
            "\rAggregator Model:  80%|████████  | 4/5 [01:58<00:28, 28.63s/it]"
          ]
        },
        {
          "output_type": "stream",
          "name": "stdout",
          "text": [
            "\n",
            "\n",
            "Client 4 sending noisy data of 16000 samples\n",
            "\n",
            "\n",
            "For Epoch 4, each client contains 4000 samples\n",
            "\n",
            "\n",
            "Client 0 weights updated for Aggregator Epoch 4\n",
            "\n",
            "\n",
            "Client 1 weights updated for Aggregator Epoch 4\n",
            "\n",
            "\n",
            "Client 2 weights updated for Aggregator Epoch 4\n",
            "\n",
            "\n",
            "Client 3 weights updated for Aggregator Epoch 4\n",
            "\n",
            "\n",
            "Client 4 weights updated for Aggregator Epoch 4\n",
            "\n",
            "\n",
            "Mean weights calculated for Aggregator Epoch 4\n",
            "\n",
            "\n",
            "Aggregator weights updated for Aggregator Epoch 4\n",
            "269/269 [==============================] - 0s 1ms/step\n"
          ]
        },
        {
          "output_type": "stream",
          "name": "stderr",
          "text": [
            "Aggregator Model: 100%|██████████| 5/5 [02:43<00:00, 32.69s/it]"
          ]
        },
        {
          "output_type": "stream",
          "name": "stdout",
          "text": [
            "\n",
            "\n",
            "For Aggregator Epoch 4 the loss is 0.4410047766774446, the accuracy is 0.7430167597765364, the precision is 0.45055273379145505, the recall is 0.8034096963239211, the F1-score is 0.5773353751914242\n",
            "\n",
            "\n",
            "Client weights updated for Aggregator Epoch 4\n"
          ]
        },
        {
          "output_type": "stream",
          "name": "stderr",
          "text": [
            "\n"
          ]
        }
      ]
    },
    {
      "cell_type": "code",
      "source": [
        "#Print the lists of accuracy, loss, precision, recall, F1-Score\n",
        "metrics_df = pd.DataFrame(list(zip(aggregator_accuracy,aggregator_loss,aggregator_precision,aggregator_recall,aggregator_f1)),columns=['accuracy','loss','precision','recall','f1'])\n",
        "metrics_df"
      ],
      "metadata": {
        "id": "WpI23aDzC-5y",
        "colab": {
          "base_uri": "https://localhost:8080/",
          "height": 226
        },
        "outputId": "ac1c9be1-7dc5-4a75-b975-524614ec7991"
      },
      "execution_count": 23,
      "outputs": [
        {
          "output_type": "execute_result",
          "data": {
            "text/plain": [
              "   accuracy      loss  precision    recall        f1\n",
              "0  0.787360  0.551257   0.511671  0.583910  0.545409\n",
              "1  0.833799  0.397675   0.671243  0.468833  0.552070\n",
              "2  0.837523  0.378079   0.656067  0.538625  0.591574\n",
              "3  0.834730  0.375267   0.642545  0.548748  0.591954\n",
              "4  0.743017  0.441005   0.450553  0.803410  0.577335"
            ],
            "text/html": [
              "\n",
              "  <div id=\"df-1c43dbd1-6e49-4b0b-ab76-a9f3cff9ca37\" class=\"colab-df-container\">\n",
              "    <div>\n",
              "<style scoped>\n",
              "    .dataframe tbody tr th:only-of-type {\n",
              "        vertical-align: middle;\n",
              "    }\n",
              "\n",
              "    .dataframe tbody tr th {\n",
              "        vertical-align: top;\n",
              "    }\n",
              "\n",
              "    .dataframe thead th {\n",
              "        text-align: right;\n",
              "    }\n",
              "</style>\n",
              "<table border=\"1\" class=\"dataframe\">\n",
              "  <thead>\n",
              "    <tr style=\"text-align: right;\">\n",
              "      <th></th>\n",
              "      <th>accuracy</th>\n",
              "      <th>loss</th>\n",
              "      <th>precision</th>\n",
              "      <th>recall</th>\n",
              "      <th>f1</th>\n",
              "    </tr>\n",
              "  </thead>\n",
              "  <tbody>\n",
              "    <tr>\n",
              "      <th>0</th>\n",
              "      <td>0.787360</td>\n",
              "      <td>0.551257</td>\n",
              "      <td>0.511671</td>\n",
              "      <td>0.583910</td>\n",
              "      <td>0.545409</td>\n",
              "    </tr>\n",
              "    <tr>\n",
              "      <th>1</th>\n",
              "      <td>0.833799</td>\n",
              "      <td>0.397675</td>\n",
              "      <td>0.671243</td>\n",
              "      <td>0.468833</td>\n",
              "      <td>0.552070</td>\n",
              "    </tr>\n",
              "    <tr>\n",
              "      <th>2</th>\n",
              "      <td>0.837523</td>\n",
              "      <td>0.378079</td>\n",
              "      <td>0.656067</td>\n",
              "      <td>0.538625</td>\n",
              "      <td>0.591574</td>\n",
              "    </tr>\n",
              "    <tr>\n",
              "      <th>3</th>\n",
              "      <td>0.834730</td>\n",
              "      <td>0.375267</td>\n",
              "      <td>0.642545</td>\n",
              "      <td>0.548748</td>\n",
              "      <td>0.591954</td>\n",
              "    </tr>\n",
              "    <tr>\n",
              "      <th>4</th>\n",
              "      <td>0.743017</td>\n",
              "      <td>0.441005</td>\n",
              "      <td>0.450553</td>\n",
              "      <td>0.803410</td>\n",
              "      <td>0.577335</td>\n",
              "    </tr>\n",
              "  </tbody>\n",
              "</table>\n",
              "</div>\n",
              "    <div class=\"colab-df-buttons\">\n",
              "\n",
              "  <div class=\"colab-df-container\">\n",
              "    <button class=\"colab-df-convert\" onclick=\"convertToInteractive('df-1c43dbd1-6e49-4b0b-ab76-a9f3cff9ca37')\"\n",
              "            title=\"Convert this dataframe to an interactive table.\"\n",
              "            style=\"display:none;\">\n",
              "\n",
              "  <svg xmlns=\"http://www.w3.org/2000/svg\" height=\"24px\" viewBox=\"0 -960 960 960\">\n",
              "    <path d=\"M120-120v-720h720v720H120Zm60-500h600v-160H180v160Zm220 220h160v-160H400v160Zm0 220h160v-160H400v160ZM180-400h160v-160H180v160Zm440 0h160v-160H620v160ZM180-180h160v-160H180v160Zm440 0h160v-160H620v160Z\"/>\n",
              "  </svg>\n",
              "    </button>\n",
              "\n",
              "  <style>\n",
              "    .colab-df-container {\n",
              "      display:flex;\n",
              "      gap: 12px;\n",
              "    }\n",
              "\n",
              "    .colab-df-convert {\n",
              "      background-color: #E8F0FE;\n",
              "      border: none;\n",
              "      border-radius: 50%;\n",
              "      cursor: pointer;\n",
              "      display: none;\n",
              "      fill: #1967D2;\n",
              "      height: 32px;\n",
              "      padding: 0 0 0 0;\n",
              "      width: 32px;\n",
              "    }\n",
              "\n",
              "    .colab-df-convert:hover {\n",
              "      background-color: #E2EBFA;\n",
              "      box-shadow: 0px 1px 2px rgba(60, 64, 67, 0.3), 0px 1px 3px 1px rgba(60, 64, 67, 0.15);\n",
              "      fill: #174EA6;\n",
              "    }\n",
              "\n",
              "    .colab-df-buttons div {\n",
              "      margin-bottom: 4px;\n",
              "    }\n",
              "\n",
              "    [theme=dark] .colab-df-convert {\n",
              "      background-color: #3B4455;\n",
              "      fill: #D2E3FC;\n",
              "    }\n",
              "\n",
              "    [theme=dark] .colab-df-convert:hover {\n",
              "      background-color: #434B5C;\n",
              "      box-shadow: 0px 1px 3px 1px rgba(0, 0, 0, 0.15);\n",
              "      filter: drop-shadow(0px 1px 2px rgba(0, 0, 0, 0.3));\n",
              "      fill: #FFFFFF;\n",
              "    }\n",
              "  </style>\n",
              "\n",
              "    <script>\n",
              "      const buttonEl =\n",
              "        document.querySelector('#df-1c43dbd1-6e49-4b0b-ab76-a9f3cff9ca37 button.colab-df-convert');\n",
              "      buttonEl.style.display =\n",
              "        google.colab.kernel.accessAllowed ? 'block' : 'none';\n",
              "\n",
              "      async function convertToInteractive(key) {\n",
              "        const element = document.querySelector('#df-1c43dbd1-6e49-4b0b-ab76-a9f3cff9ca37');\n",
              "        const dataTable =\n",
              "          await google.colab.kernel.invokeFunction('convertToInteractive',\n",
              "                                                    [key], {});\n",
              "        if (!dataTable) return;\n",
              "\n",
              "        const docLinkHtml = 'Like what you see? Visit the ' +\n",
              "          '<a target=\"_blank\" href=https://colab.research.google.com/notebooks/data_table.ipynb>data table notebook</a>'\n",
              "          + ' to learn more about interactive tables.';\n",
              "        element.innerHTML = '';\n",
              "        dataTable['output_type'] = 'display_data';\n",
              "        await google.colab.output.renderOutput(dataTable, element);\n",
              "        const docLink = document.createElement('div');\n",
              "        docLink.innerHTML = docLinkHtml;\n",
              "        element.appendChild(docLink);\n",
              "      }\n",
              "    </script>\n",
              "  </div>\n",
              "\n",
              "\n",
              "<div id=\"df-94e43cda-c401-4317-bbb2-60c116e92b47\">\n",
              "  <button class=\"colab-df-quickchart\" onclick=\"quickchart('df-94e43cda-c401-4317-bbb2-60c116e92b47')\"\n",
              "            title=\"Suggest charts\"\n",
              "            style=\"display:none;\">\n",
              "\n",
              "<svg xmlns=\"http://www.w3.org/2000/svg\" height=\"24px\"viewBox=\"0 0 24 24\"\n",
              "     width=\"24px\">\n",
              "    <g>\n",
              "        <path d=\"M19 3H5c-1.1 0-2 .9-2 2v14c0 1.1.9 2 2 2h14c1.1 0 2-.9 2-2V5c0-1.1-.9-2-2-2zM9 17H7v-7h2v7zm4 0h-2V7h2v10zm4 0h-2v-4h2v4z\"/>\n",
              "    </g>\n",
              "</svg>\n",
              "  </button>\n",
              "\n",
              "<style>\n",
              "  .colab-df-quickchart {\n",
              "      --bg-color: #E8F0FE;\n",
              "      --fill-color: #1967D2;\n",
              "      --hover-bg-color: #E2EBFA;\n",
              "      --hover-fill-color: #174EA6;\n",
              "      --disabled-fill-color: #AAA;\n",
              "      --disabled-bg-color: #DDD;\n",
              "  }\n",
              "\n",
              "  [theme=dark] .colab-df-quickchart {\n",
              "      --bg-color: #3B4455;\n",
              "      --fill-color: #D2E3FC;\n",
              "      --hover-bg-color: #434B5C;\n",
              "      --hover-fill-color: #FFFFFF;\n",
              "      --disabled-bg-color: #3B4455;\n",
              "      --disabled-fill-color: #666;\n",
              "  }\n",
              "\n",
              "  .colab-df-quickchart {\n",
              "    background-color: var(--bg-color);\n",
              "    border: none;\n",
              "    border-radius: 50%;\n",
              "    cursor: pointer;\n",
              "    display: none;\n",
              "    fill: var(--fill-color);\n",
              "    height: 32px;\n",
              "    padding: 0;\n",
              "    width: 32px;\n",
              "  }\n",
              "\n",
              "  .colab-df-quickchart:hover {\n",
              "    background-color: var(--hover-bg-color);\n",
              "    box-shadow: 0 1px 2px rgba(60, 64, 67, 0.3), 0 1px 3px 1px rgba(60, 64, 67, 0.15);\n",
              "    fill: var(--button-hover-fill-color);\n",
              "  }\n",
              "\n",
              "  .colab-df-quickchart-complete:disabled,\n",
              "  .colab-df-quickchart-complete:disabled:hover {\n",
              "    background-color: var(--disabled-bg-color);\n",
              "    fill: var(--disabled-fill-color);\n",
              "    box-shadow: none;\n",
              "  }\n",
              "\n",
              "  .colab-df-spinner {\n",
              "    border: 2px solid var(--fill-color);\n",
              "    border-color: transparent;\n",
              "    border-bottom-color: var(--fill-color);\n",
              "    animation:\n",
              "      spin 1s steps(1) infinite;\n",
              "  }\n",
              "\n",
              "  @keyframes spin {\n",
              "    0% {\n",
              "      border-color: transparent;\n",
              "      border-bottom-color: var(--fill-color);\n",
              "      border-left-color: var(--fill-color);\n",
              "    }\n",
              "    20% {\n",
              "      border-color: transparent;\n",
              "      border-left-color: var(--fill-color);\n",
              "      border-top-color: var(--fill-color);\n",
              "    }\n",
              "    30% {\n",
              "      border-color: transparent;\n",
              "      border-left-color: var(--fill-color);\n",
              "      border-top-color: var(--fill-color);\n",
              "      border-right-color: var(--fill-color);\n",
              "    }\n",
              "    40% {\n",
              "      border-color: transparent;\n",
              "      border-right-color: var(--fill-color);\n",
              "      border-top-color: var(--fill-color);\n",
              "    }\n",
              "    60% {\n",
              "      border-color: transparent;\n",
              "      border-right-color: var(--fill-color);\n",
              "    }\n",
              "    80% {\n",
              "      border-color: transparent;\n",
              "      border-right-color: var(--fill-color);\n",
              "      border-bottom-color: var(--fill-color);\n",
              "    }\n",
              "    90% {\n",
              "      border-color: transparent;\n",
              "      border-bottom-color: var(--fill-color);\n",
              "    }\n",
              "  }\n",
              "</style>\n",
              "\n",
              "  <script>\n",
              "    async function quickchart(key) {\n",
              "      const quickchartButtonEl =\n",
              "        document.querySelector('#' + key + ' button');\n",
              "      quickchartButtonEl.disabled = true;  // To prevent multiple clicks.\n",
              "      quickchartButtonEl.classList.add('colab-df-spinner');\n",
              "      try {\n",
              "        const charts = await google.colab.kernel.invokeFunction(\n",
              "            'suggestCharts', [key], {});\n",
              "      } catch (error) {\n",
              "        console.error('Error during call to suggestCharts:', error);\n",
              "      }\n",
              "      quickchartButtonEl.classList.remove('colab-df-spinner');\n",
              "      quickchartButtonEl.classList.add('colab-df-quickchart-complete');\n",
              "    }\n",
              "    (() => {\n",
              "      let quickchartButtonEl =\n",
              "        document.querySelector('#df-94e43cda-c401-4317-bbb2-60c116e92b47 button');\n",
              "      quickchartButtonEl.style.display =\n",
              "        google.colab.kernel.accessAllowed ? 'block' : 'none';\n",
              "    })();\n",
              "  </script>\n",
              "</div>\n",
              "\n",
              "  <div id=\"id_482e92ad-f1e8-4aa3-8fb7-765d161f3c74\">\n",
              "    <style>\n",
              "      .colab-df-generate {\n",
              "        background-color: #E8F0FE;\n",
              "        border: none;\n",
              "        border-radius: 50%;\n",
              "        cursor: pointer;\n",
              "        display: none;\n",
              "        fill: #1967D2;\n",
              "        height: 32px;\n",
              "        padding: 0 0 0 0;\n",
              "        width: 32px;\n",
              "      }\n",
              "\n",
              "      .colab-df-generate:hover {\n",
              "        background-color: #E2EBFA;\n",
              "        box-shadow: 0px 1px 2px rgba(60, 64, 67, 0.3), 0px 1px 3px 1px rgba(60, 64, 67, 0.15);\n",
              "        fill: #174EA6;\n",
              "      }\n",
              "\n",
              "      [theme=dark] .colab-df-generate {\n",
              "        background-color: #3B4455;\n",
              "        fill: #D2E3FC;\n",
              "      }\n",
              "\n",
              "      [theme=dark] .colab-df-generate:hover {\n",
              "        background-color: #434B5C;\n",
              "        box-shadow: 0px 1px 3px 1px rgba(0, 0, 0, 0.15);\n",
              "        filter: drop-shadow(0px 1px 2px rgba(0, 0, 0, 0.3));\n",
              "        fill: #FFFFFF;\n",
              "      }\n",
              "    </style>\n",
              "    <button class=\"colab-df-generate\" onclick=\"generateWithVariable('metrics_df')\"\n",
              "            title=\"Generate code using this dataframe.\"\n",
              "            style=\"display:none;\">\n",
              "\n",
              "  <svg xmlns=\"http://www.w3.org/2000/svg\" height=\"24px\"viewBox=\"0 0 24 24\"\n",
              "       width=\"24px\">\n",
              "    <path d=\"M7,19H8.4L18.45,9,17,7.55,7,17.6ZM5,21V16.75L18.45,3.32a2,2,0,0,1,2.83,0l1.4,1.43a1.91,1.91,0,0,1,.58,1.4,1.91,1.91,0,0,1-.58,1.4L9.25,21ZM18.45,9,17,7.55Zm-12,3A5.31,5.31,0,0,0,4.9,8.1,5.31,5.31,0,0,0,1,6.5,5.31,5.31,0,0,0,4.9,4.9,5.31,5.31,0,0,0,6.5,1,5.31,5.31,0,0,0,8.1,4.9,5.31,5.31,0,0,0,12,6.5,5.46,5.46,0,0,0,6.5,12Z\"/>\n",
              "  </svg>\n",
              "    </button>\n",
              "    <script>\n",
              "      (() => {\n",
              "      const buttonEl =\n",
              "        document.querySelector('#id_482e92ad-f1e8-4aa3-8fb7-765d161f3c74 button.colab-df-generate');\n",
              "      buttonEl.style.display =\n",
              "        google.colab.kernel.accessAllowed ? 'block' : 'none';\n",
              "\n",
              "      buttonEl.onclick = () => {\n",
              "        google.colab.notebook.generateWithVariable('metrics_df');\n",
              "      }\n",
              "      })();\n",
              "    </script>\n",
              "  </div>\n",
              "\n",
              "    </div>\n",
              "  </div>\n"
            ],
            "application/vnd.google.colaboratory.intrinsic+json": {
              "type": "dataframe",
              "variable_name": "metrics_df",
              "summary": "{\n  \"name\": \"metrics_df\",\n  \"rows\": 5,\n  \"fields\": [\n    {\n      \"column\": \"accuracy\",\n      \"properties\": {\n        \"dtype\": \"number\",\n        \"std\": 0.041526995338242986,\n        \"min\": 0.7430167597765364,\n        \"max\": 0.8375232774674115,\n        \"num_unique_values\": 5,\n        \"samples\": [\n          0.8337988826815642,\n          0.7430167597765364,\n          0.8375232774674115\n        ],\n        \"semantic_type\": \"\",\n        \"description\": \"\"\n      }\n    },\n    {\n      \"column\": \"loss\",\n      \"properties\": {\n        \"dtype\": \"number\",\n        \"std\": 0.07340277333616561,\n        \"min\": 0.3752669873146936,\n        \"max\": 0.5512574929089772,\n        \"num_unique_values\": 5,\n        \"samples\": [\n          0.3976745318209256,\n          0.4410047766774446,\n          0.37807920551307234\n        ],\n        \"semantic_type\": \"\",\n        \"description\": \"\"\n      }\n    },\n    {\n      \"column\": \"precision\",\n      \"properties\": {\n        \"dtype\": \"number\",\n        \"std\": 0.09904934033025262,\n        \"min\": 0.45055273379145505,\n        \"max\": 0.6712433257055682,\n        \"num_unique_values\": 5,\n        \"samples\": [\n          0.6712433257055682,\n          0.45055273379145505,\n          0.6560674886437379\n        ],\n        \"semantic_type\": \"\",\n        \"description\": \"\"\n      }\n    },\n    {\n      \"column\": \"recall\",\n      \"properties\": {\n        \"dtype\": \"number\",\n        \"std\": 0.127077587560854,\n        \"min\": 0.46883324453915826,\n        \"max\": 0.8034096963239211,\n        \"num_unique_values\": 5,\n        \"samples\": [\n          0.46883324453915826,\n          0.8034096963239211,\n          0.5386254661694193\n        ],\n        \"semantic_type\": \"\",\n        \"description\": \"\"\n      }\n    },\n    {\n      \"column\": \"f1\",\n      \"properties\": {\n        \"dtype\": \"number\",\n        \"std\": 0.02187168142899583,\n        \"min\": 0.545409305797462,\n        \"max\": 0.5919540229885057,\n        \"num_unique_values\": 5,\n        \"samples\": [\n          0.5520702634880803,\n          0.5773353751914242,\n          0.5915740198946752\n        ],\n        \"semantic_type\": \"\",\n        \"description\": \"\"\n      }\n    }\n  ]\n}"
            }
          },
          "metadata": {},
          "execution_count": 23
        }
      ]
    },
    {
      "cell_type": "code",
      "execution_count": 24,
      "metadata": {
        "id": "GUePedGJGh2i",
        "colab": {
          "base_uri": "https://localhost:8080/"
        },
        "outputId": "28aade0e-792a-4b70-9f5f-41b371ccf86a"
      },
      "outputs": [
        {
          "output_type": "stream",
          "name": "stdout",
          "text": [
            "Model: \"sequential_2\"\n",
            "_________________________________________________________________\n",
            " Layer (type)                Output Shape              Param #   \n",
            "=================================================================\n",
            " dense_4 (Dense)             (None, 8)                 96        \n",
            "                                                                 \n",
            " dense_5 (Dense)             (None, 1)                 9         \n",
            "                                                                 \n",
            "=================================================================\n",
            "Total params: 105 (420.00 Byte)\n",
            "Trainable params: 105 (420.00 Byte)\n",
            "Non-trainable params: 0 (0.00 Byte)\n",
            "_________________________________________________________________\n"
          ]
        }
      ],
      "source": [
        "#Summary of final aggregator model\n",
        "aggregator_model.summary()"
      ]
    },
    {
      "cell_type": "code",
      "execution_count": 25,
      "metadata": {
        "id": "U-teXZw2GrhS",
        "colab": {
          "base_uri": "https://localhost:8080/"
        },
        "outputId": "66c13d3b-135d-496a-e3d3-c221b93be109"
      },
      "outputs": [
        {
          "output_type": "stream",
          "name": "stdout",
          "text": [
            "1/1 [==============================] - 0s 21ms/step\n"
          ]
        },
        {
          "output_type": "execute_result",
          "data": {
            "text/plain": [
              "array([[0.06846704],\n",
              "       [0.8128578 ],\n",
              "       [0.04976585],\n",
              "       [0.46094036],\n",
              "       [0.6746069 ]], dtype=float32)"
            ]
          },
          "metadata": {},
          "execution_count": 25
        }
      ],
      "source": [
        "#Predict y for first 5 observations from x_holdout using aggregator model\n",
        "aggregator_model.predict(x_holdout[:5])"
      ]
    },
    {
      "cell_type": "code",
      "execution_count": 26,
      "metadata": {
        "id": "oLjgmtIaC683",
        "colab": {
          "base_uri": "https://localhost:8080/",
          "height": 450
        },
        "outputId": "dc24121f-b870-4966-8cf9-83fd8ad91625"
      },
      "outputs": [
        {
          "output_type": "display_data",
          "data": {
            "text/plain": [
              "<Figure size 640x480 with 1 Axes>"
            ],
            "image/png": "[encoded data removed]"
          },
          "metadata": {}
        }
      ],
      "source": [
        "#Visualize federated learning model i.e. final aggregator model\n",
        "import matplotlib.pyplot as pyplot\n",
        "pyplot.plot(range(len(aggregator_accuracy)), aggregator_accuracy, label=\"Aggregator Accuracy\")\n",
        "pyplot.plot(aggregator_loss, label=\"Aggregator Loss\")\n",
        "pyplot.legend()\n",
        "pyplot.show()"
      ]
    },
    {
      "cell_type": "code",
      "source": [
        "pyplot.plot(range(len(aggregator_precision)), aggregator_precision, label=\"Aggregator Precision\")\n",
        "pyplot.plot(aggregator_recall, label=\"Aggregator Recall\")\n",
        "pyplot.plot(aggregator_f1, label=\"Aggregator F1-score\")\n",
        "pyplot.legend()\n",
        "pyplot.show()"
      ],
      "metadata": {
        "id": "z1AdMF9pqaXo",
        "colab": {
          "base_uri": "https://localhost:8080/",
          "height": 450
        },
        "outputId": "37ced3b2-478c-43cb-8b3e-826c22869ec0"
      },
      "execution_count": 27,
      "outputs": [
        {
          "output_type": "display_data",
          "data": {
            "text/plain": [
              "<Figure size 640x480 with 1 Axes>"
            ],
            "image/png": "[encoded data removed]"
          },
          "metadata": {}
        }
      ]
    },
    {
      "cell_type": "code",
      "source": [
        "#Generate confusion matrix\n",
        "from sklearn.metrics import confusion_matrix\n",
        "y_pred = aggregator_model.predict(x_holdout)\n",
        "y_pred = (y_pred > 0.5).astype(int)\n",
        "#cm = confusion_matrix(y_holdout, y_pred)\n",
        "conf_matrix = pd.DataFrame(confusion_matrix(y_holdout, y_pred), index = ['Actual 0','Actual 1'], columns = ['Predicted 0','Predicted 1'])\n",
        "conf_matrix"
      ],
      "metadata": {
        "colab": {
          "base_uri": "https://localhost:8080/",
          "height": 163
        },
        "id": "ZG4BIfFogr7r",
        "outputId": "d0547ec3-c6b6-463b-d815-1761518a12a8"
      },
      "execution_count": 28,
      "outputs": [
        {
          "output_type": "stream",
          "name": "stdout",
          "text": [
            "269/269 [==============================] - 1s 2ms/step\n"
          ]
        },
        {
          "output_type": "execute_result",
          "data": {
            "text/plain": [
              "          Predicted 0  Predicted 1\n",
              "Actual 0         5493         1222\n",
              "Actual 1          529         1348"
            ],
            "text/html": [
              "\n",
              "  <div id=\"df-82ea7e44-b003-42be-a504-e8cb4efca7c8\" class=\"colab-df-container\">\n",
              "    <div>\n",
              "<style scoped>\n",
              "    .dataframe tbody tr th:only-of-type {\n",
              "        vertical-align: middle;\n",
              "    }\n",
              "\n",
              "    .dataframe tbody tr th {\n",
              "        vertical-align: top;\n",
              "    }\n",
              "\n",
              "    .dataframe thead th {\n",
              "        text-align: right;\n",
              "    }\n",
              "</style>\n",
              "<table border=\"1\" class=\"dataframe\">\n",
              "  <thead>\n",
              "    <tr style=\"text-align: right;\">\n",
              "      <th></th>\n",
              "      <th>Predicted 0</th>\n",
              "      <th>Predicted 1</th>\n",
              "    </tr>\n",
              "  </thead>\n",
              "  <tbody>\n",
              "    <tr>\n",
              "      <th>Actual 0</th>\n",
              "      <td>5493</td>\n",
              "      <td>1222</td>\n",
              "    </tr>\n",
              "    <tr>\n",
              "      <th>Actual 1</th>\n",
              "      <td>529</td>\n",
              "      <td>1348</td>\n",
              "    </tr>\n",
              "  </tbody>\n",
              "</table>\n",
              "</div>\n",
              "    <div class=\"colab-df-buttons\">\n",
              "\n",
              "  <div class=\"colab-df-container\">\n",
              "    <button class=\"colab-df-convert\" onclick=\"convertToInteractive('df-82ea7e44-b003-42be-a504-e8cb4efca7c8')\"\n",
              "            title=\"Convert this dataframe to an interactive table.\"\n",
              "            style=\"display:none;\">\n",
              "\n",
              "  <svg xmlns=\"http://www.w3.org/2000/svg\" height=\"24px\" viewBox=\"0 -960 960 960\">\n",
              "    <path d=\"M120-120v-720h720v720H120Zm60-500h600v-160H180v160Zm220 220h160v-160H400v160Zm0 220h160v-160H400v160ZM180-400h160v-160H180v160Zm440 0h160v-160H620v160ZM180-180h160v-160H180v160Zm440 0h160v-160H620v160Z\"/>\n",
              "  </svg>\n",
              "    </button>\n",
              "\n",
              "  <style>\n",
              "    .colab-df-container {\n",
              "      display:flex;\n",
              "      gap: 12px;\n",
              "    }\n",
              "\n",
              "    .colab-df-convert {\n",
              "      background-color: #E8F0FE;\n",
              "      border: none;\n",
              "      border-radius: 50%;\n",
              "      cursor: pointer;\n",
              "      display: none;\n",
              "      fill: #1967D2;\n",
              "      height: 32px;\n",
              "      padding: 0 0 0 0;\n",
              "      width: 32px;\n",
              "    }\n",
              "\n",
              "    .colab-df-convert:hover {\n",
              "      background-color: #E2EBFA;\n",
              "      box-shadow: 0px 1px 2px rgba(60, 64, 67, 0.3), 0px 1px 3px 1px rgba(60, 64, 67, 0.15);\n",
              "      fill: #174EA6;\n",
              "    }\n",
              "\n",
              "    .colab-df-buttons div {\n",
              "      margin-bottom: 4px;\n",
              "    }\n",
              "\n",
              "    [theme=dark] .colab-df-convert {\n",
              "      background-color: #3B4455;\n",
              "      fill: #D2E3FC;\n",
              "    }\n",
              "\n",
              "    [theme=dark] .colab-df-convert:hover {\n",
              "      background-color: #434B5C;\n",
              "      box-shadow: 0px 1px 3px 1px rgba(0, 0, 0, 0.15);\n",
              "      filter: drop-shadow(0px 1px 2px rgba(0, 0, 0, 0.3));\n",
              "      fill: #FFFFFF;\n",
              "    }\n",
              "  </style>\n",
              "\n",
              "    <script>\n",
              "      const buttonEl =\n",
              "        document.querySelector('#df-82ea7e44-b003-42be-a504-e8cb4efca7c8 button.colab-df-convert');\n",
              "      buttonEl.style.display =\n",
              "        google.colab.kernel.accessAllowed ? 'block' : 'none';\n",
              "\n",
              "      async function convertToInteractive(key) {\n",
              "        const element = document.querySelector('#df-82ea7e44-b003-42be-a504-e8cb4efca7c8');\n",
              "        const dataTable =\n",
              "          await google.colab.kernel.invokeFunction('convertToInteractive',\n",
              "                                                    [key], {});\n",
              "        if (!dataTable) return;\n",
              "\n",
              "        const docLinkHtml = 'Like what you see? Visit the ' +\n",
              "          '<a target=\"_blank\" href=https://colab.research.google.com/notebooks/data_table.ipynb>data table notebook</a>'\n",
              "          + ' to learn more about interactive tables.';\n",
              "        element.innerHTML = '';\n",
              "        dataTable['output_type'] = 'display_data';\n",
              "        await google.colab.output.renderOutput(dataTable, element);\n",
              "        const docLink = document.createElement('div');\n",
              "        docLink.innerHTML = docLinkHtml;\n",
              "        element.appendChild(docLink);\n",
              "      }\n",
              "    </script>\n",
              "  </div>\n",
              "\n",
              "\n",
              "<div id=\"df-a8ea6a27-c2d1-41ad-be23-50748da8626b\">\n",
              "  <button class=\"colab-df-quickchart\" onclick=\"quickchart('df-a8ea6a27-c2d1-41ad-be23-50748da8626b')\"\n",
              "            title=\"Suggest charts\"\n",
              "            style=\"display:none;\">\n",
              "\n",
              "<svg xmlns=\"http://www.w3.org/2000/svg\" height=\"24px\"viewBox=\"0 0 24 24\"\n",
              "     width=\"24px\">\n",
              "    <g>\n",
              "        <path d=\"M19 3H5c-1.1 0-2 .9-2 2v14c0 1.1.9 2 2 2h14c1.1 0 2-.9 2-2V5c0-1.1-.9-2-2-2zM9 17H7v-7h2v7zm4 0h-2V7h2v10zm4 0h-2v-4h2v4z\"/>\n",
              "    </g>\n",
              "</svg>\n",
              "  </button>\n",
              "\n",
              "<style>\n",
              "  .colab-df-quickchart {\n",
              "      --bg-color: #E8F0FE;\n",
              "      --fill-color: #1967D2;\n",
              "      --hover-bg-color: #E2EBFA;\n",
              "      --hover-fill-color: #174EA6;\n",
              "      --disabled-fill-color: #AAA;\n",
              "      --disabled-bg-color: #DDD;\n",
              "  }\n",
              "\n",
              "  [theme=dark] .colab-df-quickchart {\n",
              "      --bg-color: #3B4455;\n",
              "      --fill-color: #D2E3FC;\n",
              "      --hover-bg-color: #434B5C;\n",
              "      --hover-fill-color: #FFFFFF;\n",
              "      --disabled-bg-color: #3B4455;\n",
              "      --disabled-fill-color: #666;\n",
              "  }\n",
              "\n",
              "  .colab-df-quickchart {\n",
              "    background-color: var(--bg-color);\n",
              "    border: none;\n",
              "    border-radius: 50%;\n",
              "    cursor: pointer;\n",
              "    display: none;\n",
              "    fill: var(--fill-color);\n",
              "    height: 32px;\n",
              "    padding: 0;\n",
              "    width: 32px;\n",
              "  }\n",
              "\n",
              "  .colab-df-quickchart:hover {\n",
              "    background-color: var(--hover-bg-color);\n",
              "    box-shadow: 0 1px 2px rgba(60, 64, 67, 0.3), 0 1px 3px 1px rgba(60, 64, 67, 0.15);\n",
              "    fill: var(--button-hover-fill-color);\n",
              "  }\n",
              "\n",
              "  .colab-df-quickchart-complete:disabled,\n",
              "  .colab-df-quickchart-complete:disabled:hover {\n",
              "    background-color: var(--disabled-bg-color);\n",
              "    fill: var(--disabled-fill-color);\n",
              "    box-shadow: none;\n",
              "  }\n",
              "\n",
              "  .colab-df-spinner {\n",
              "    border: 2px solid var(--fill-color);\n",
              "    border-color: transparent;\n",
              "    border-bottom-color: var(--fill-color);\n",
              "    animation:\n",
              "      spin 1s steps(1) infinite;\n",
              "  }\n",
              "\n",
              "  @keyframes spin {\n",
              "    0% {\n",
              "      border-color: transparent;\n",
              "      border-bottom-color: var(--fill-color);\n",
              "      border-left-color: var(--fill-color);\n",
              "    }\n",
              "    20% {\n",
              "      border-color: transparent;\n",
              "      border-left-color: var(--fill-color);\n",
              "      border-top-color: var(--fill-color);\n",
              "    }\n",
              "    30% {\n",
              "      border-color: transparent;\n",
              "      border-left-color: var(--fill-color);\n",
              "      border-top-color: var(--fill-color);\n",
              "      border-right-color: var(--fill-color);\n",
              "    }\n",
              "    40% {\n",
              "      border-color: transparent;\n",
              "      border-right-color: var(--fill-color);\n",
              "      border-top-color: var(--fill-color);\n",
              "    }\n",
              "    60% {\n",
              "      border-color: transparent;\n",
              "      border-right-color: var(--fill-color);\n",
              "    }\n",
              "    80% {\n",
              "      border-color: transparent;\n",
              "      border-right-color: var(--fill-color);\n",
              "      border-bottom-color: var(--fill-color);\n",
              "    }\n",
              "    90% {\n",
              "      border-color: transparent;\n",
              "      border-bottom-color: var(--fill-color);\n",
              "    }\n",
              "  }\n",
              "</style>\n",
              "\n",
              "  <script>\n",
              "    async function quickchart(key) {\n",
              "      const quickchartButtonEl =\n",
              "        document.querySelector('#' + key + ' button');\n",
              "      quickchartButtonEl.disabled = true;  // To prevent multiple clicks.\n",
              "      quickchartButtonEl.classList.add('colab-df-spinner');\n",
              "      try {\n",
              "        const charts = await google.colab.kernel.invokeFunction(\n",
              "            'suggestCharts', [key], {});\n",
              "      } catch (error) {\n",
              "        console.error('Error during call to suggestCharts:', error);\n",
              "      }\n",
              "      quickchartButtonEl.classList.remove('colab-df-spinner');\n",
              "      quickchartButtonEl.classList.add('colab-df-quickchart-complete');\n",
              "    }\n",
              "    (() => {\n",
              "      let quickchartButtonEl =\n",
              "        document.querySelector('#df-a8ea6a27-c2d1-41ad-be23-50748da8626b button');\n",
              "      quickchartButtonEl.style.display =\n",
              "        google.colab.kernel.accessAllowed ? 'block' : 'none';\n",
              "    })();\n",
              "  </script>\n",
              "</div>\n",
              "\n",
              "  <div id=\"id_efc20365-3251-492b-97a6-d05e276664e3\">\n",
              "    <style>\n",
              "      .colab-df-generate {\n",
              "        background-color: #E8F0FE;\n",
              "        border: none;\n",
              "        border-radius: 50%;\n",
              "        cursor: pointer;\n",
              "        display: none;\n",
              "        fill: #1967D2;\n",
              "        height: 32px;\n",
              "        padding: 0 0 0 0;\n",
              "        width: 32px;\n",
              "      }\n",
              "\n",
              "      .colab-df-generate:hover {\n",
              "        background-color: #E2EBFA;\n",
              "        box-shadow: 0px 1px 2px rgba(60, 64, 67, 0.3), 0px 1px 3px 1px rgba(60, 64, 67, 0.15);\n",
              "        fill: #174EA6;\n",
              "      }\n",
              "\n",
              "      [theme=dark] .colab-df-generate {\n",
              "        background-color: #3B4455;\n",
              "        fill: #D2E3FC;\n",
              "      }\n",
              "\n",
              "      [theme=dark] .colab-df-generate:hover {\n",
              "        background-color: #434B5C;\n",
              "        box-shadow: 0px 1px 3px 1px rgba(0, 0, 0, 0.15);\n",
              "        filter: drop-shadow(0px 1px 2px rgba(0, 0, 0, 0.3));\n",
              "        fill: #FFFFFF;\n",
              "      }\n",
              "    </style>\n",
              "    <button class=\"colab-df-generate\" onclick=\"generateWithVariable('conf_matrix')\"\n",
              "            title=\"Generate code using this dataframe.\"\n",
              "            style=\"display:none;\">\n",
              "\n",
              "  <svg xmlns=\"http://www.w3.org/2000/svg\" height=\"24px\"viewBox=\"0 0 24 24\"\n",
              "       width=\"24px\">\n",
              "    <path d=\"M7,19H8.4L18.45,9,17,7.55,7,17.6ZM5,21V16.75L18.45,3.32a2,2,0,0,1,2.83,0l1.4,1.43a1.91,1.91,0,0,1,.58,1.4,1.91,1.91,0,0,1-.58,1.4L9.25,21ZM18.45,9,17,7.55Zm-12,3A5.31,5.31,0,0,0,4.9,8.1,5.31,5.31,0,0,0,1,6.5,5.31,5.31,0,0,0,4.9,4.9,5.31,5.31,0,0,0,6.5,1,5.31,5.31,0,0,0,8.1,4.9,5.31,5.31,0,0,0,12,6.5,5.46,5.46,0,0,0,6.5,12Z\"/>\n",
              "  </svg>\n",
              "    </button>\n",
              "    <script>\n",
              "      (() => {\n",
              "      const buttonEl =\n",
              "        document.querySelector('#id_efc20365-3251-492b-97a6-d05e276664e3 button.colab-df-generate');\n",
              "      buttonEl.style.display =\n",
              "        google.colab.kernel.accessAllowed ? 'block' : 'none';\n",
              "\n",
              "      buttonEl.onclick = () => {\n",
              "        google.colab.notebook.generateWithVariable('conf_matrix');\n",
              "      }\n",
              "      })();\n",
              "    </script>\n",
              "  </div>\n",
              "\n",
              "    </div>\n",
              "  </div>\n"
            ],
            "application/vnd.google.colaboratory.intrinsic+json": {
              "type": "dataframe",
              "variable_name": "conf_matrix",
              "summary": "{\n  \"name\": \"conf_matrix\",\n  \"rows\": 2,\n  \"fields\": [\n    {\n      \"column\": \"Predicted 0\",\n      \"properties\": {\n        \"dtype\": \"number\",\n        \"std\": 3510,\n        \"min\": 529,\n        \"max\": 5493,\n        \"num_unique_values\": 2,\n        \"samples\": [\n          529,\n          5493\n        ],\n        \"semantic_type\": \"\",\n        \"description\": \"\"\n      }\n    },\n    {\n      \"column\": \"Predicted 1\",\n      \"properties\": {\n        \"dtype\": \"number\",\n        \"std\": 89,\n        \"min\": 1222,\n        \"max\": 1348,\n        \"num_unique_values\": 2,\n        \"samples\": [\n          1348,\n          1222\n        ],\n        \"semantic_type\": \"\",\n        \"description\": \"\"\n      }\n    }\n  ]\n}"
            }
          },
          "metadata": {},
          "execution_count": 28
        }
      ]
    }
  ],
  "metadata": {
    "colab": {
      "provenance": []
    },
    "kernelspec": {
      "display_name": "Python 3 (ipykernel)",
      "language": "python",
      "name": "python3"
    },
    "language_info": {
      "codemirror_mode": {
        "name": "ipython",
        "version": 3
      },
      "file_extension": ".py",
      "mimetype": "text/x-python",
      "name": "python",
      "nbconvert_exporter": "python",
      "pygments_lexer": "ipython3",
      "version": "3.11.7"
    }
  },
  "nbformat": 4,
  "nbformat_minor": 0
}